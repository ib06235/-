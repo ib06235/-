{
 "cells": [
  {
   "cell_type": "code",
   "execution_count": 2,
   "id": "c314a443",
   "metadata": {},
   "outputs": [],
   "source": [
    "# 필요한 라이브러리, 모듈 import\n",
    "import pandas as pd\n",
    "from scipy.stats.mstats import gmean\n",
    "import matplotlib.pyplot as plt"
   ]
  },
  {
   "cell_type": "code",
   "execution_count": 3,
   "id": "28d73d6c",
   "metadata": {},
   "outputs": [
    {
     "data": {
      "text/html": [
       "<div>\n",
       "<style scoped>\n",
       "    .dataframe tbody tr th:only-of-type {\n",
       "        vertical-align: middle;\n",
       "    }\n",
       "\n",
       "    .dataframe tbody tr th {\n",
       "        vertical-align: top;\n",
       "    }\n",
       "\n",
       "    .dataframe thead th {\n",
       "        text-align: right;\n",
       "    }\n",
       "</style>\n",
       "<table border=\"1\" class=\"dataframe\">\n",
       "  <thead>\n",
       "    <tr style=\"text-align: right;\">\n",
       "      <th></th>\n",
       "      <th>복지</th>\n",
       "      <th>요양</th>\n",
       "      <th>경로</th>\n",
       "      <th>대학</th>\n",
       "      <th>지하철</th>\n",
       "      <th>버스</th>\n",
       "    </tr>\n",
       "  </thead>\n",
       "  <tbody>\n",
       "    <tr>\n",
       "      <th>복지</th>\n",
       "      <td>1.000000</td>\n",
       "      <td>1.708333</td>\n",
       "      <td>1.475309</td>\n",
       "      <td>0.195513</td>\n",
       "      <td>1.326923</td>\n",
       "      <td>1.397436</td>\n",
       "    </tr>\n",
       "    <tr>\n",
       "      <th>요양</th>\n",
       "      <td>0.585366</td>\n",
       "      <td>1.000000</td>\n",
       "      <td>2.665672</td>\n",
       "      <td>0.185410</td>\n",
       "      <td>1.256098</td>\n",
       "      <td>1.332317</td>\n",
       "    </tr>\n",
       "    <tr>\n",
       "      <th>경로</th>\n",
       "      <td>0.677824</td>\n",
       "      <td>0.375140</td>\n",
       "      <td>1.000000</td>\n",
       "      <td>0.127083</td>\n",
       "      <td>0.874477</td>\n",
       "      <td>0.914046</td>\n",
       "    </tr>\n",
       "    <tr>\n",
       "      <th>대학</th>\n",
       "      <td>5.114754</td>\n",
       "      <td>5.393443</td>\n",
       "      <td>7.868852</td>\n",
       "      <td>1.000000</td>\n",
       "      <td>6.754098</td>\n",
       "      <td>7.147541</td>\n",
       "    </tr>\n",
       "    <tr>\n",
       "      <th>지하철</th>\n",
       "      <td>0.753623</td>\n",
       "      <td>0.796117</td>\n",
       "      <td>1.143541</td>\n",
       "      <td>0.148058</td>\n",
       "      <td>1.000000</td>\n",
       "      <td>1.119159</td>\n",
       "    </tr>\n",
       "    <tr>\n",
       "      <th>버스</th>\n",
       "      <td>0.715596</td>\n",
       "      <td>0.750572</td>\n",
       "      <td>1.094037</td>\n",
       "      <td>0.139908</td>\n",
       "      <td>0.893528</td>\n",
       "      <td>1.000000</td>\n",
       "    </tr>\n",
       "  </tbody>\n",
       "</table>\n",
       "</div>"
      ],
      "text/plain": [
       "           복지        요양        경로        대학       지하철        버스\n",
       "복지   1.000000  1.708333  1.475309  0.195513  1.326923  1.397436\n",
       "요양   0.585366  1.000000  2.665672  0.185410  1.256098  1.332317\n",
       "경로   0.677824  0.375140  1.000000  0.127083  0.874477  0.914046\n",
       "대학   5.114754  5.393443  7.868852  1.000000  6.754098  7.147541\n",
       "지하철  0.753623  0.796117  1.143541  0.148058  1.000000  1.119159\n",
       "버스   0.715596  0.750572  1.094037  0.139908  0.893528  1.000000"
      ]
     },
     "execution_count": 3,
     "metadata": {},
     "output_type": "execute_result"
    }
   ],
   "source": [
    "# 액셀을 불러와 데이터프레임으로 변환\n",
    "file_name = 'AHP.xlsx'\n",
    "ahp_df = pd.read_excel(file_name, index_col = 0)\n",
    "ahp_df"
   ]
  },
  {
   "cell_type": "code",
   "execution_count": 4,
   "id": "ce6ba57f",
   "metadata": {},
   "outputs": [
    {
     "data": {
      "text/plain": [
       "6"
      ]
     },
     "execution_count": 4,
     "metadata": {},
     "output_type": "execute_result"
    }
   ],
   "source": [
    "# 데이터프레임의 컬럼수 파악\n",
    "colums_cnt = len(ahp_df.columns)\n",
    "colums_cnt"
   ]
  },
  {
   "cell_type": "code",
   "execution_count": 5,
   "id": "a9570e01",
   "metadata": {},
   "outputs": [],
   "source": [
    "# 각 컬럼의 기하평균을 계산하여 리스트에 저장\n",
    "geo_mean_list = []\n",
    "for i in ahp_df:\n",
    "    geo_mean_list.append(gmean(ahp_df[i]))"
   ]
  },
  {
   "cell_type": "code",
   "execution_count": 6,
   "id": "1954d7b2",
   "metadata": {},
   "outputs": [
    {
     "name": "stdout",
     "output_type": "stream",
     "text": [
      "기하평균 (Geometric mean)\n",
      "\n",
      "복지 : 1.015154013245876\n",
      "요양 : 1.1284963968119786\n",
      "경로 : 1.8392781327712266\n",
      "대학 : 0.2137694418984526\n",
      "지하철 : 1.4367532566196224\n",
      "버스 : 1.5452283456293898\n"
     ]
    }
   ],
   "source": [
    "# 기하평균 출력\n",
    "print('기하평균 (Geometric mean)\\n')\n",
    "for i,j in zip(ahp_df, geo_mean_list):\n",
    "    print('{} : {}'.format(i, j))\n",
    "    #print('{} : {}'.format(i, round(j,3)))  # 소수점 3 자리수"
   ]
  },
  {
   "cell_type": "code",
   "execution_count": 7,
   "id": "fd8a4fcd",
   "metadata": {
    "scrolled": true
   },
   "outputs": [
    {
     "data": {
      "text/html": [
       "<div>\n",
       "<style scoped>\n",
       "    .dataframe tbody tr th:only-of-type {\n",
       "        vertical-align: middle;\n",
       "    }\n",
       "\n",
       "    .dataframe tbody tr th {\n",
       "        vertical-align: top;\n",
       "    }\n",
       "\n",
       "    .dataframe thead th {\n",
       "        text-align: right;\n",
       "    }\n",
       "</style>\n",
       "<table border=\"1\" class=\"dataframe\">\n",
       "  <thead>\n",
       "    <tr style=\"text-align: right;\">\n",
       "      <th></th>\n",
       "      <th>복지</th>\n",
       "      <th>요양</th>\n",
       "      <th>경로</th>\n",
       "      <th>대학</th>\n",
       "      <th>지하철</th>\n",
       "      <th>버스</th>\n",
       "    </tr>\n",
       "  </thead>\n",
       "  <tbody>\n",
       "    <tr>\n",
       "      <th>0</th>\n",
       "      <td>1.000000</td>\n",
       "      <td>1.708333</td>\n",
       "      <td>1.475309</td>\n",
       "      <td>0.195513</td>\n",
       "      <td>1.326923</td>\n",
       "      <td>1.397436</td>\n",
       "    </tr>\n",
       "    <tr>\n",
       "      <th>1</th>\n",
       "      <td>0.585366</td>\n",
       "      <td>1.000000</td>\n",
       "      <td>2.665672</td>\n",
       "      <td>0.185410</td>\n",
       "      <td>1.256098</td>\n",
       "      <td>1.332317</td>\n",
       "    </tr>\n",
       "    <tr>\n",
       "      <th>2</th>\n",
       "      <td>0.677824</td>\n",
       "      <td>0.375140</td>\n",
       "      <td>1.000000</td>\n",
       "      <td>0.127083</td>\n",
       "      <td>0.874477</td>\n",
       "      <td>0.914046</td>\n",
       "    </tr>\n",
       "    <tr>\n",
       "      <th>3</th>\n",
       "      <td>5.114754</td>\n",
       "      <td>5.393443</td>\n",
       "      <td>7.868852</td>\n",
       "      <td>1.000000</td>\n",
       "      <td>6.754098</td>\n",
       "      <td>7.147541</td>\n",
       "    </tr>\n",
       "    <tr>\n",
       "      <th>4</th>\n",
       "      <td>0.753623</td>\n",
       "      <td>0.796117</td>\n",
       "      <td>1.143541</td>\n",
       "      <td>0.148058</td>\n",
       "      <td>1.000000</td>\n",
       "      <td>1.119159</td>\n",
       "    </tr>\n",
       "    <tr>\n",
       "      <th>5</th>\n",
       "      <td>0.715596</td>\n",
       "      <td>0.750572</td>\n",
       "      <td>1.094037</td>\n",
       "      <td>0.139908</td>\n",
       "      <td>0.893528</td>\n",
       "      <td>1.000000</td>\n",
       "    </tr>\n",
       "    <tr>\n",
       "      <th>6</th>\n",
       "      <td>1.015154</td>\n",
       "      <td>1.128496</td>\n",
       "      <td>1.839278</td>\n",
       "      <td>0.213769</td>\n",
       "      <td>1.436753</td>\n",
       "      <td>1.545228</td>\n",
       "    </tr>\n",
       "  </tbody>\n",
       "</table>\n",
       "</div>"
      ],
      "text/plain": [
       "         복지        요양        경로        대학       지하철        버스\n",
       "0  1.000000  1.708333  1.475309  0.195513  1.326923  1.397436\n",
       "1  0.585366  1.000000  2.665672  0.185410  1.256098  1.332317\n",
       "2  0.677824  0.375140  1.000000  0.127083  0.874477  0.914046\n",
       "3  5.114754  5.393443  7.868852  1.000000  6.754098  7.147541\n",
       "4  0.753623  0.796117  1.143541  0.148058  1.000000  1.119159\n",
       "5  0.715596  0.750572  1.094037  0.139908  0.893528  1.000000\n",
       "6  1.015154  1.128496  1.839278  0.213769  1.436753  1.545228"
      ]
     },
     "execution_count": 7,
     "metadata": {},
     "output_type": "execute_result"
    }
   ],
   "source": [
    "# 데이터프레임에 기하평균값 추가\n",
    "ahp_df = ahp_df.append(pd.Series(geo_mean_list, index=ahp_df.columns),ignore_index=True)\n",
    "ahp_df"
   ]
  },
  {
   "cell_type": "code",
   "execution_count": 8,
   "id": "a7119699",
   "metadata": {},
   "outputs": [
    {
     "data": {
      "text/plain": [
       "7.178679586976546"
      ]
     },
     "execution_count": 8,
     "metadata": {},
     "output_type": "execute_result"
    }
   ],
   "source": [
    "# 가중치 계산을 위하여 기하평균의 합을 구함\n",
    "geo_mean_sum = sum(geo_mean_list)\n",
    "geo_mean_sum"
   ]
  },
  {
   "cell_type": "code",
   "execution_count": 9,
   "id": "e18e2619",
   "metadata": {},
   "outputs": [],
   "source": [
    "# 각 컬럼의 가중치를 계산하여 리스트에 저장\n",
    "weights_list = []\n",
    "for i in range(colums_cnt):\n",
    "    weights_list.append(geo_mean_list[i]/geo_mean_sum)"
   ]
  },
  {
   "cell_type": "code",
   "execution_count": 10,
   "id": "2a664d9b",
   "metadata": {},
   "outputs": [
    {
     "name": "stdout",
     "output_type": "stream",
     "text": [
      "가중치 (Weights)\n",
      "\n",
      "복지 : 0.14141235876964803\n",
      "요양 : 0.1572011096385023\n",
      "경로 : 0.25621398900544573\n",
      "대학 : 0.02977837906100029\n",
      "지하철 : 0.20014171676169512\n",
      "버스 : 0.21525244676370847\n"
     ]
    }
   ],
   "source": [
    "# 기하평균 출력\n",
    "print('가중치 (Weights)\\n')\n",
    "for i,j in zip(ahp_df, weights_list):\n",
    "    print('{} : {}'.format(i, j))\n",
    "    #print('{} : {}'.format(i, round(j,3)))  # 소수점 3 자리수"
   ]
  },
  {
   "cell_type": "code",
   "execution_count": 11,
   "id": "4da5f58a",
   "metadata": {},
   "outputs": [
    {
     "name": "stdout",
     "output_type": "stream",
     "text": [
      "1.0\n"
     ]
    }
   ],
   "source": [
    "# 가중치 합 확인\n",
    "su_ = sum(list(weights_list))\n",
    "print(su_)"
   ]
  },
  {
   "cell_type": "code",
   "execution_count": 12,
   "id": "c536c461",
   "metadata": {},
   "outputs": [
    {
     "data": {
      "text/html": [
       "<div>\n",
       "<style scoped>\n",
       "    .dataframe tbody tr th:only-of-type {\n",
       "        vertical-align: middle;\n",
       "    }\n",
       "\n",
       "    .dataframe tbody tr th {\n",
       "        vertical-align: top;\n",
       "    }\n",
       "\n",
       "    .dataframe thead th {\n",
       "        text-align: right;\n",
       "    }\n",
       "</style>\n",
       "<table border=\"1\" class=\"dataframe\">\n",
       "  <thead>\n",
       "    <tr style=\"text-align: right;\">\n",
       "      <th></th>\n",
       "      <th>복지</th>\n",
       "      <th>요양</th>\n",
       "      <th>경로</th>\n",
       "      <th>대학</th>\n",
       "      <th>지하철</th>\n",
       "      <th>버스</th>\n",
       "    </tr>\n",
       "  </thead>\n",
       "  <tbody>\n",
       "    <tr>\n",
       "      <th>0</th>\n",
       "      <td>1.000000</td>\n",
       "      <td>1.708333</td>\n",
       "      <td>1.475309</td>\n",
       "      <td>0.195513</td>\n",
       "      <td>1.326923</td>\n",
       "      <td>1.397436</td>\n",
       "    </tr>\n",
       "    <tr>\n",
       "      <th>1</th>\n",
       "      <td>0.585366</td>\n",
       "      <td>1.000000</td>\n",
       "      <td>2.665672</td>\n",
       "      <td>0.185410</td>\n",
       "      <td>1.256098</td>\n",
       "      <td>1.332317</td>\n",
       "    </tr>\n",
       "    <tr>\n",
       "      <th>2</th>\n",
       "      <td>0.677824</td>\n",
       "      <td>0.375140</td>\n",
       "      <td>1.000000</td>\n",
       "      <td>0.127083</td>\n",
       "      <td>0.874477</td>\n",
       "      <td>0.914046</td>\n",
       "    </tr>\n",
       "    <tr>\n",
       "      <th>3</th>\n",
       "      <td>5.114754</td>\n",
       "      <td>5.393443</td>\n",
       "      <td>7.868852</td>\n",
       "      <td>1.000000</td>\n",
       "      <td>6.754098</td>\n",
       "      <td>7.147541</td>\n",
       "    </tr>\n",
       "    <tr>\n",
       "      <th>4</th>\n",
       "      <td>0.753623</td>\n",
       "      <td>0.796117</td>\n",
       "      <td>1.143541</td>\n",
       "      <td>0.148058</td>\n",
       "      <td>1.000000</td>\n",
       "      <td>1.119159</td>\n",
       "    </tr>\n",
       "    <tr>\n",
       "      <th>5</th>\n",
       "      <td>0.715596</td>\n",
       "      <td>0.750572</td>\n",
       "      <td>1.094037</td>\n",
       "      <td>0.139908</td>\n",
       "      <td>0.893528</td>\n",
       "      <td>1.000000</td>\n",
       "    </tr>\n",
       "    <tr>\n",
       "      <th>6</th>\n",
       "      <td>1.015154</td>\n",
       "      <td>1.128496</td>\n",
       "      <td>1.839278</td>\n",
       "      <td>0.213769</td>\n",
       "      <td>1.436753</td>\n",
       "      <td>1.545228</td>\n",
       "    </tr>\n",
       "    <tr>\n",
       "      <th>7</th>\n",
       "      <td>0.141412</td>\n",
       "      <td>0.157201</td>\n",
       "      <td>0.256214</td>\n",
       "      <td>0.029778</td>\n",
       "      <td>0.200142</td>\n",
       "      <td>0.215252</td>\n",
       "    </tr>\n",
       "  </tbody>\n",
       "</table>\n",
       "</div>"
      ],
      "text/plain": [
       "         복지        요양        경로        대학       지하철        버스\n",
       "0  1.000000  1.708333  1.475309  0.195513  1.326923  1.397436\n",
       "1  0.585366  1.000000  2.665672  0.185410  1.256098  1.332317\n",
       "2  0.677824  0.375140  1.000000  0.127083  0.874477  0.914046\n",
       "3  5.114754  5.393443  7.868852  1.000000  6.754098  7.147541\n",
       "4  0.753623  0.796117  1.143541  0.148058  1.000000  1.119159\n",
       "5  0.715596  0.750572  1.094037  0.139908  0.893528  1.000000\n",
       "6  1.015154  1.128496  1.839278  0.213769  1.436753  1.545228\n",
       "7  0.141412  0.157201  0.256214  0.029778  0.200142  0.215252"
      ]
     },
     "execution_count": 12,
     "metadata": {},
     "output_type": "execute_result"
    }
   ],
   "source": [
    "# 데이터프레임에 가중치 값 추가\n",
    "ahp_df = ahp_df.append(pd.Series(weights_list, index=ahp_df.columns),ignore_index=True)\n",
    "ahp_df"
   ]
  },
  {
   "cell_type": "code",
   "execution_count": 13,
   "id": "67898545",
   "metadata": {},
   "outputs": [
    {
     "data": {
      "text/html": [
       "<div>\n",
       "<style scoped>\n",
       "    .dataframe tbody tr th:only-of-type {\n",
       "        vertical-align: middle;\n",
       "    }\n",
       "\n",
       "    .dataframe tbody tr th {\n",
       "        vertical-align: top;\n",
       "    }\n",
       "\n",
       "    .dataframe thead th {\n",
       "        text-align: right;\n",
       "    }\n",
       "</style>\n",
       "<table border=\"1\" class=\"dataframe\">\n",
       "  <thead>\n",
       "    <tr style=\"text-align: right;\">\n",
       "      <th></th>\n",
       "      <th>복지</th>\n",
       "      <th>요양</th>\n",
       "      <th>경로</th>\n",
       "      <th>대학</th>\n",
       "      <th>지하철</th>\n",
       "      <th>버스</th>\n",
       "    </tr>\n",
       "  </thead>\n",
       "  <tbody>\n",
       "    <tr>\n",
       "      <th>복지</th>\n",
       "      <td>1.000000</td>\n",
       "      <td>1.708333</td>\n",
       "      <td>1.475309</td>\n",
       "      <td>0.195513</td>\n",
       "      <td>1.326923</td>\n",
       "      <td>1.397436</td>\n",
       "    </tr>\n",
       "    <tr>\n",
       "      <th>요양</th>\n",
       "      <td>0.585366</td>\n",
       "      <td>1.000000</td>\n",
       "      <td>2.665672</td>\n",
       "      <td>0.185410</td>\n",
       "      <td>1.256098</td>\n",
       "      <td>1.332317</td>\n",
       "    </tr>\n",
       "    <tr>\n",
       "      <th>경로</th>\n",
       "      <td>0.677824</td>\n",
       "      <td>0.375140</td>\n",
       "      <td>1.000000</td>\n",
       "      <td>0.127083</td>\n",
       "      <td>0.874477</td>\n",
       "      <td>0.914046</td>\n",
       "    </tr>\n",
       "    <tr>\n",
       "      <th>대학</th>\n",
       "      <td>5.114754</td>\n",
       "      <td>5.393443</td>\n",
       "      <td>7.868852</td>\n",
       "      <td>1.000000</td>\n",
       "      <td>6.754098</td>\n",
       "      <td>7.147541</td>\n",
       "    </tr>\n",
       "    <tr>\n",
       "      <th>지하철</th>\n",
       "      <td>0.753623</td>\n",
       "      <td>0.796117</td>\n",
       "      <td>1.143541</td>\n",
       "      <td>0.148058</td>\n",
       "      <td>1.000000</td>\n",
       "      <td>1.119159</td>\n",
       "    </tr>\n",
       "    <tr>\n",
       "      <th>버스</th>\n",
       "      <td>0.715596</td>\n",
       "      <td>0.750572</td>\n",
       "      <td>1.094037</td>\n",
       "      <td>0.139908</td>\n",
       "      <td>0.893528</td>\n",
       "      <td>1.000000</td>\n",
       "    </tr>\n",
       "    <tr>\n",
       "      <th>기하평균</th>\n",
       "      <td>1.015154</td>\n",
       "      <td>1.128496</td>\n",
       "      <td>1.839278</td>\n",
       "      <td>0.213769</td>\n",
       "      <td>1.436753</td>\n",
       "      <td>1.545228</td>\n",
       "    </tr>\n",
       "    <tr>\n",
       "      <th>가중치</th>\n",
       "      <td>0.141412</td>\n",
       "      <td>0.157201</td>\n",
       "      <td>0.256214</td>\n",
       "      <td>0.029778</td>\n",
       "      <td>0.200142</td>\n",
       "      <td>0.215252</td>\n",
       "    </tr>\n",
       "  </tbody>\n",
       "</table>\n",
       "</div>"
      ],
      "text/plain": [
       "            복지        요양        경로        대학       지하철        버스\n",
       "복지    1.000000  1.708333  1.475309  0.195513  1.326923  1.397436\n",
       "요양    0.585366  1.000000  2.665672  0.185410  1.256098  1.332317\n",
       "경로    0.677824  0.375140  1.000000  0.127083  0.874477  0.914046\n",
       "대학    5.114754  5.393443  7.868852  1.000000  6.754098  7.147541\n",
       "지하철   0.753623  0.796117  1.143541  0.148058  1.000000  1.119159\n",
       "버스    0.715596  0.750572  1.094037  0.139908  0.893528  1.000000\n",
       "기하평균  1.015154  1.128496  1.839278  0.213769  1.436753  1.545228\n",
       "가중치   0.141412  0.157201  0.256214  0.029778  0.200142  0.215252"
      ]
     },
     "execution_count": 13,
     "metadata": {},
     "output_type": "execute_result"
    }
   ],
   "source": [
    "# 인덱스명 변경\n",
    "ahp_df_result = ahp_df.rename({0:'복지', 1:'요양', 2:'경로', 3:'대학', 4:'지하철', 5:'버스',6:'기하평균',7:'가중치'}, axis=0)\n",
    "ahp_df_result"
   ]
  },
  {
   "cell_type": "code",
   "execution_count": 16,
   "id": "9ab91e54",
   "metadata": {},
   "outputs": [],
   "source": [
    "# 데이터프레임을 csv로 저장\n",
    "ahp_df_result.to_csv('AHP_가중치산정_결과.csv',index=True , sep=',', encoding='cp949')"
   ]
  },
  {
   "cell_type": "code",
   "execution_count": null,
   "id": "46051728",
   "metadata": {},
   "outputs": [],
   "source": []
  },
  {
   "cell_type": "code",
   "execution_count": null,
   "id": "17cd3425",
   "metadata": {},
   "outputs": [],
   "source": []
  },
  {
   "cell_type": "code",
   "execution_count": 18,
   "id": "fd0584a0",
   "metadata": {},
   "outputs": [
    {
     "data": {
      "text/html": [
       "<div>\n",
       "<style scoped>\n",
       "    .dataframe tbody tr th:only-of-type {\n",
       "        vertical-align: middle;\n",
       "    }\n",
       "\n",
       "    .dataframe tbody tr th {\n",
       "        vertical-align: top;\n",
       "    }\n",
       "\n",
       "    .dataframe thead th {\n",
       "        text-align: right;\n",
       "    }\n",
       "</style>\n",
       "<table border=\"1\" class=\"dataframe\">\n",
       "  <thead>\n",
       "    <tr style=\"text-align: right;\">\n",
       "      <th></th>\n",
       "      <th>복지</th>\n",
       "      <th>요양</th>\n",
       "      <th>경로</th>\n",
       "      <th>대학</th>\n",
       "      <th>지하철</th>\n",
       "      <th>버스</th>\n",
       "    </tr>\n",
       "  </thead>\n",
       "  <tbody>\n",
       "    <tr>\n",
       "      <th>가중치</th>\n",
       "      <td>0.141412</td>\n",
       "      <td>0.157201</td>\n",
       "      <td>0.256214</td>\n",
       "      <td>0.029778</td>\n",
       "      <td>0.200142</td>\n",
       "      <td>0.215252</td>\n",
       "    </tr>\n",
       "  </tbody>\n",
       "</table>\n",
       "</div>"
      ],
      "text/plain": [
       "           복지        요양        경로        대학       지하철        버스\n",
       "가중치  0.141412  0.157201  0.256214  0.029778  0.200142  0.215252"
      ]
     },
     "execution_count": 18,
     "metadata": {},
     "output_type": "execute_result"
    }
   ],
   "source": [
    "# 가중치 결과만 가지고 있는 데이터프레임 생성\n",
    "ahp_df_result_weights = ahp_df_result.loc[['가중치'],['복지','요양','경로','대학','지하철','버스']]\n",
    "ahp_df_result_weights"
   ]
  },
  {
   "cell_type": "code",
   "execution_count": 34,
   "id": "7f08a3a1",
   "metadata": {},
   "outputs": [
    {
     "data": {
      "text/html": [
       "<div>\n",
       "<style scoped>\n",
       "    .dataframe tbody tr th:only-of-type {\n",
       "        vertical-align: middle;\n",
       "    }\n",
       "\n",
       "    .dataframe tbody tr th {\n",
       "        vertical-align: top;\n",
       "    }\n",
       "\n",
       "    .dataframe thead th {\n",
       "        text-align: right;\n",
       "    }\n",
       "</style>\n",
       "<table border=\"1\" class=\"dataframe\">\n",
       "  <thead>\n",
       "    <tr style=\"text-align: right;\">\n",
       "      <th></th>\n",
       "      <th>가중치</th>\n",
       "    </tr>\n",
       "  </thead>\n",
       "  <tbody>\n",
       "    <tr>\n",
       "      <th>복지</th>\n",
       "      <td>0.141412</td>\n",
       "    </tr>\n",
       "    <tr>\n",
       "      <th>요양</th>\n",
       "      <td>0.157201</td>\n",
       "    </tr>\n",
       "    <tr>\n",
       "      <th>경로</th>\n",
       "      <td>0.256214</td>\n",
       "    </tr>\n",
       "    <tr>\n",
       "      <th>대학</th>\n",
       "      <td>0.029778</td>\n",
       "    </tr>\n",
       "    <tr>\n",
       "      <th>지하철</th>\n",
       "      <td>0.200142</td>\n",
       "    </tr>\n",
       "    <tr>\n",
       "      <th>버스</th>\n",
       "      <td>0.215252</td>\n",
       "    </tr>\n",
       "  </tbody>\n",
       "</table>\n",
       "</div>"
      ],
      "text/plain": [
       "          가중치\n",
       "복지   0.141412\n",
       "요양   0.157201\n",
       "경로   0.256214\n",
       "대학   0.029778\n",
       "지하철  0.200142\n",
       "버스   0.215252"
      ]
     },
     "execution_count": 34,
     "metadata": {},
     "output_type": "execute_result"
    }
   ],
   "source": [
    "df = ahp_df_result_weights\n",
    "df"
   ]
  },
  {
   "cell_type": "code",
   "execution_count": 20,
   "id": "c441fb0a",
   "metadata": {},
   "outputs": [
    {
     "data": {
      "text/html": [
       "<div>\n",
       "<style scoped>\n",
       "    .dataframe tbody tr th:only-of-type {\n",
       "        vertical-align: middle;\n",
       "    }\n",
       "\n",
       "    .dataframe tbody tr th {\n",
       "        vertical-align: top;\n",
       "    }\n",
       "\n",
       "    .dataframe thead th {\n",
       "        text-align: right;\n",
       "    }\n",
       "</style>\n",
       "<table border=\"1\" class=\"dataframe\">\n",
       "  <thead>\n",
       "    <tr style=\"text-align: right;\">\n",
       "      <th></th>\n",
       "      <th>복지</th>\n",
       "      <th>요양</th>\n",
       "      <th>경로</th>\n",
       "      <th>대학</th>\n",
       "      <th>지하철</th>\n",
       "      <th>버스</th>\n",
       "    </tr>\n",
       "  </thead>\n",
       "  <tbody>\n",
       "    <tr>\n",
       "      <th>가중치</th>\n",
       "      <td>0.141412</td>\n",
       "      <td>0.157201</td>\n",
       "      <td>0.256214</td>\n",
       "      <td>0.029778</td>\n",
       "      <td>0.200142</td>\n",
       "      <td>0.215252</td>\n",
       "    </tr>\n",
       "  </tbody>\n",
       "</table>\n",
       "</div>"
      ],
      "text/plain": [
       "           복지        요양        경로        대학       지하철        버스\n",
       "가중치  0.141412  0.157201  0.256214  0.029778  0.200142  0.215252"
      ]
     },
     "execution_count": 20,
     "metadata": {},
     "output_type": "execute_result"
    }
   ],
   "source": [
    "ahp_df_result_weights"
   ]
  },
  {
   "cell_type": "code",
   "execution_count": 22,
   "id": "9dd877c1",
   "metadata": {},
   "outputs": [],
   "source": [
    "x = list(ahp_df_result_weights.columns)\n",
    "y = weights_list"
   ]
  },
  {
   "cell_type": "code",
   "execution_count": 24,
   "id": "fe62972a",
   "metadata": {},
   "outputs": [],
   "source": [
    "# 그래프 한글 출력을 위함\n",
    "plt.rcParams['font.family'] = 'Malgun Gothic' "
   ]
  },
  {
   "cell_type": "code",
   "execution_count": 59,
   "id": "0b12f102",
   "metadata": {},
   "outputs": [
    {
     "data": {
      "image/png": "[encoded data removed]",
      "text/plain": [
       "<Figure size 640x480 with 1 Axes>"
      ]
     },
     "metadata": {},
     "output_type": "display_data"
    }
   ],
   "source": [
    "plt.bar(x, y, color=['cornflowerblue','cornflowerblue','tomato','cornflowerblue','cornflowerblue','cornflowerblue'])\n",
    "plt.xlabel('시설')\n",
    "plt.ylabel('가중치')\n",
    "plt.savefig('AHP_막대그래프',dpi=200) # 막대그래프 결과를 저장\n",
    "plt.show()"
   ]
  },
  {
   "cell_type": "code",
   "execution_count": null,
   "id": "8ecd7b69",
   "metadata": {},
   "outputs": [],
   "source": []
  },
  {
   "cell_type": "code",
   "execution_count": null,
   "id": "cad4f349",
   "metadata": {},
   "outputs": [],
   "source": []
  },
  {
   "cell_type": "code",
   "execution_count": null,
   "id": "72c8dce3",
   "metadata": {},
   "outputs": [],
   "source": []
  }
 ],
 "metadata": {
  "kernelspec": {
   "display_name": "Python 3",
   "language": "python",
   "name": "python3"
  },
  "language_info": {
   "codemirror_mode": {
    "name": "ipython",
    "version": 3
   },
   "file_extension": ".py",
   "mimetype": "text/x-python",
   "name": "python",
   "nbconvert_exporter": "python",
   "pygments_lexer": "ipython3",
   "version": "3.8.8"
  },
  "toc": {
   "base_numbering": 1,
   "nav_menu": {},
   "number_sections": true,
   "sideBar": true,
   "skip_h1_title": false,
   "title_cell": "Table of Contents",
   "title_sidebar": "Contents",
   "toc_cell": false,
   "toc_position": {},
   "toc_section_display": true,
   "toc_window_display": false
  }
 },
 "nbformat": 4,
 "nbformat_minor": 5
}
