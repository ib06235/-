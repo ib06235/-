{
  "nbformat": 4,
  "nbformat_minor": 0,
  "metadata": {
    "colab": {
      "name": "법무복지공단 상담데이터를 이용한 분석 코드",
      "private_outputs": true,
      "provenance": [],
      "collapsed_sections": [
        "GA0PvUiEhZ3s",
        "PIW6xkIMhDvz",
        "EILurWKwhFvQ",
        "4Q_bAJt9rKPP",
        "VRIjI4bBs4KR",
        "LeOFqSaxum8m",
        "F9N-KfKttTHb",
        "-M7JnyBRPdy7",
        "EJSxULQuGH3h",
        "vuSHc1cwGxXU",
        "ELndcwJLHIC5",
        "rbv1GFeNHQyw",
        "dG0Vyz3pHWPp",
        "45r6LOYnNHYI",
        "z40WGa64XpVJ",
        "Kkz9XS_3fYoQ",
        "CFkATVa9LZJF",
        "KLIUpoFvHlFF"
      ],
      "mount_file_id": "1kz0jAv7Ap0FZXfwWqbAwmB5GUXjWkAtg",
      "authorship_tag": "ABX9TyNLWd+PZPPDCDK5dZGwoaY8",
      "include_colab_link": true
    },
    "kernelspec": {
      "name": "python3",
      "display_name": "Python 3"
    },
    "accelerator": "GPU"
  },
  "cells": [
    {
      "cell_type": "markdown",
      "metadata": {
        "id": "view-in-github",
        "colab_type": "text"
      },
      "source": [
        "<a href=\"https://colab.research.google.com/github/ib06235/IBLee/blob/master/%EC%83%81%EB%8B%B4%EB%8D%B0%EC%9D%B4%ED%84%B0%EB%A5%BC_%EC%9D%B4%EC%9A%A9%ED%95%9C_%EB%B6%84%EC%84%9D_%EC%BD%94%EB%93%9C.ipynb\" target=\"_parent\"><img src=\"https://colab.research.google.com/assets/colab-badge.svg\" alt=\"Open In Colab\"/></a>"
      ]
    },
    {
      "cell_type": "markdown",
      "metadata": {
        "id": "GA0PvUiEhZ3s"
      },
      "source": [
        "#그래프 한글깨짐 방지"
      ]
    },
    {
      "cell_type": "code",
      "metadata": {
        "id": "p_sGdeMZhfQo"
      },
      "source": [
        "import matplotlib as mpl\n",
        "import matplotlib.pyplot as plt\n",
        " \n",
        "%config InlineBackend.figure_format = 'retina'\n",
        " \n",
        "!apt -qq -y install fonts-nanum\n",
        " \n",
        "import matplotlib.font_manager as fm\n",
        "fontpath = '/usr/share/fonts/truetype/nanum/NanumBarunGothic.ttf'\n",
        "font = fm.FontProperties(fname=fontpath, size=9)\n",
        "plt.rc('font', family='NanumBarunGothic') \n",
        "mpl.font_manager._rebuild()"
      ],
      "execution_count": null,
      "outputs": []
    },
    {
      "cell_type": "code",
      "metadata": {
        "id": "DYB1cAOWhhtu"
      },
      "source": [
        "plt.figure(figsize=(5,5))\n",
        "plt.plot([0,1], [0,1], label='한글테스트용')\n",
        "plt.legend()\n",
        "plt.show()"
      ],
      "execution_count": null,
      "outputs": []
    },
    {
      "cell_type": "markdown",
      "metadata": {
        "id": "PIW6xkIMhDvz"
      },
      "source": [
        "# 설치 및 패키지"
      ]
    },
    {
      "cell_type": "code",
      "metadata": {
        "id": "WqQni4QEhFUt"
      },
      "source": [
        "!apt-get update\n",
        "\n",
        "!apt-get install g++ openjdk-8-jdk python-dev python3-dev\n",
        "\n",
        "!pip3 install JPype1-py3\n",
        "\n",
        "!pip3 install konlpy\n",
        "\n",
        "!JAVA_HOME=\"/usr/lib/jvm/java-8-openjdk-amd64\"\n"
      ],
      "execution_count": null,
      "outputs": []
    },
    {
      "cell_type": "code",
      "metadata": {
        "id": "1r_e34vxhFSL"
      },
      "source": [
        "import pandas as pd #판다스 패키지 불러오기\n",
        "import matplotlib.pyplot as plt\n",
        "from collections import Counter\n",
        "from wordcloud import WordCloud \n",
        "import numpy as np\n",
        "\n",
        "\n",
        "import matplotlib.pyplot as plt\n",
        "\n",
        "import nltk\n",
        "from nltk.corpus import stopwords\n",
        "%matplotlib inline\n",
        "import seaborn as sns\n",
        "\n",
        "import warnings\n",
        "warnings.filterwarnings(action = 'ignore')"
      ],
      "execution_count": null,
      "outputs": []
    },
    {
      "cell_type": "code",
      "metadata": {
        "id": "vw0mhAg2hFKf"
      },
      "source": [
        "import jpype\n",
        "print(jpype.isJVMStarted()) #return False:not running or 0:running"
      ],
      "execution_count": null,
      "outputs": []
    },
    {
      "cell_type": "code",
      "metadata": {
        "id": "SuoIvalAhOUD"
      },
      "source": [
        "!pip install customized_konlpy\n",
        "from konlpy.tag import Twitter \n",
        "from ckonlpy.tag import Twitter"
      ],
      "execution_count": null,
      "outputs": []
    },
    {
      "cell_type": "code",
      "metadata": {
        "id": "ORQmS8VlhPcd"
      },
      "source": [
        "# 일단 import \n",
        "%matplotlib inline  \n",
        "import matplotlib as mpl  # 기본 설정 만지는 용도\n",
        "import matplotlib.pyplot as plt  # 그래프 그리는 용도\n",
        "import matplotlib.font_manager as fm  # 폰트 관련 용도"
      ],
      "execution_count": null,
      "outputs": []
    },
    {
      "cell_type": "code",
      "metadata": {
        "id": "iuol6FNPhQlQ"
      },
      "source": [
        "#나눔고딕인스톨\n",
        "!apt-get update -qq\n",
        "!apt-get install fonts-nanum* -qq"
      ],
      "execution_count": null,
      "outputs": []
    },
    {
      "cell_type": "code",
      "metadata": {
        "id": "L2ysVm8mhRwn"
      },
      "source": [
        "# 체크해보면 폰트 개수가 늘어났다\n",
        "sys_font=fm.findSystemFonts()\n",
        "print(f\"sys_font number: {len(sys_font)}\")\n",
        "\n",
        "nanum_font = [f for f in sys_font if 'Nanum' in f]\n",
        "print(f\"nanum_font number: {len(nanum_font)}\")"
      ],
      "execution_count": null,
      "outputs": []
    },
    {
      "cell_type": "code",
      "metadata": {
        "id": "C6m113ZhhTBr"
      },
      "source": [
        "# 현재 설정되어 있는 폰트 사이즈와 글꼴을 알아보자\n",
        "!python --version\n",
        "def current_font():\n",
        "  print(f\"설정 폰트 글꼴: {plt.rcParams['font.family']}, 설정 폰트 사이즈: {plt.rcParams['font.size']}\")  # 파이썬 3.6 이상 사용가능하다\n",
        "        \n",
        "current_font()"
      ],
      "execution_count": null,
      "outputs": []
    },
    {
      "cell_type": "code",
      "metadata": {
        "id": "69DTeJUbhTF2"
      },
      "source": [
        "path = '/usr/share/fonts/truetype/nanum/NanumGothic.ttf'  # 설치된 나눔글꼴중 원하는 녀석의 전체 경로를 가져오자\n",
        "font_name = fm.FontProperties(fname=path, size=10).get_name()\n",
        "print(font_name)\n",
        "plt.rc('font', family=font_name)"
      ],
      "execution_count": null,
      "outputs": []
    },
    {
      "cell_type": "markdown",
      "metadata": {
        "id": "EILurWKwhFvQ"
      },
      "source": [
        "#데이터 작업"
      ]
    },
    {
      "cell_type": "code",
      "metadata": {
        "id": "EJUrXkewgdUv"
      },
      "source": [
        "import pandas as pd\n",
        "\n",
        "df = pd.read_excel('/content/drive/My Drive/data2_5.xlsx', encoding='euc-kr')\n",
        "\n",
        "#df = df[df['CARE_OPEN_CLASS_NM_1'] == 10]\n",
        "df\n"
      ],
      "execution_count": null,
      "outputs": []
    },
    {
      "cell_type": "code",
      "metadata": {
        "id": "i1qoa9jlgdSM"
      },
      "source": [
        "import numpy as np\n",
        "data = np.array(df['CONSULT_CONT'].tolist())\n",
        "data"
      ],
      "execution_count": null,
      "outputs": []
    },
    {
      "cell_type": "code",
      "metadata": {
        "id": "lymguzRggdND"
      },
      "source": [
        "data2=data[1:10]\n",
        "data2"
      ],
      "execution_count": null,
      "outputs": []
    },
    {
      "cell_type": "code",
      "metadata": {
        "id": "-u_yENBwh498"
      },
      "source": [
        "!pip3 install konlpy"
      ],
      "execution_count": null,
      "outputs": []
    },
    {
      "cell_type": "code",
      "metadata": {
        "id": "Er0xlletgPBN"
      },
      "source": [
        "twitter = Twitter() \n",
        "twitter.add_dictionary(['허그집단프로그램','담당직원','사회복귀','당직자', '숙식보호', '직업훈련', '적극적', '보호관찰', '프로그램 종료', '지원이유', '지금', '특별한사항', '이행사항', '용접기술교육원', '취업알선', '특수용접기능사', '유의사항', '취업박람회', '허그일자리프로그램', '건강관리', '긴급원호', '상기 인', '야간반', '여성기술교육원', '용접배관', '주거지원자', '가족관계', '허그일자리지원프로그램', '고용보험', '상기자', '영농기술교육원', '안전사고', '안정적', '준수사항', '보호종료', '취업지원 프로그램', '구직활동', '대형면허', '건축도장기능사', '건강문제', '친구들', '거주지', '집단상담', '시설관리직', '필기합격', '긍정적', '주거지원', '출결관리', '가족부양', '참여자', '허그 일자리 프로그램', '전기기술교육원', '이행상황', '자기관리', '기술교육원', '기초수급자', '정산금', '특이사항', '애로사항', '용접기능사', '사후관리', '보호관찰법', '기계가공기술교육원', '지원기회', '보호사업', '보호관찰소', '생활 준칙', '위문물품', '법무보호가족교육원', '실기합격', '주거지', '지출관리', '외출 요청', '예치금', '생활관 준칙', '합동결혼식', '용접기능훈련', '미납금', '상기 대상자', '사회성향상 프로그램', '규칙적', '가족희망센터', '몸관리', '상기인', '보호관찰소장', '안전관리', '경제적', '입주자', '취업성공패키지', '보호위원', '허그일자리 프로그램', '허그일자리사업', '집단프로그램', '기초수급', '장기간', '허그 일자리 집단프로그램', '보호종료자', '자동차정비기술교육원', '허그일자리', '식구들', '변동사항', '생활관준칙', '용접훈련', '자립이행상황통보서'], 'Noun')"
      ],
      "execution_count": null,
      "outputs": []
    },
    {
      "cell_type": "code",
      "metadata": {
        "id": "R6z9xjaYgXra"
      },
      "source": [
        "#불용어 처리\n",
        "#날짜 계정 등 시기를 나타내는 단어\n",
        "stopwords= [ #날짜 계정 등 시기를 나타내는 토큰\n",
        "        '개월','금일', '기간','겨울','년도', '날짜','금월','까지', '날씨', '어제', '이번','지금','최근', '추후','하루', '한번', '항상','현재','시일','오늘','조기','그동안',\n",
        "        '다음주','평소','차후','지난','요즘','아침','오전','오후','예전','한해','전일','여름','시기', '가끔','사이','최종','명일','향후',\n",
        "\n",
        "        #지역 위치나타내는 토큰\n",
        "        '경기도','김해','서울','울산','천안', '당부',\n",
        "        \n",
        "        #관련없는 토큰\n",
        "        '격려', '결과', '경우', '계속', '계획', '공단', '과정', '관련', '관리','근황','기관','보호', '본인','다른', '다소', '다시', '다음', '담당', '담당자', '당부','실시',\n",
        "        '대상자', '독려',  '마련','멘토링','문자', '문제', '발생', '방문', '보고','상기인', '상담', '상태', '상황', '생활', '생활관', '소하', '숙식', '스스로', '시간','주거',\n",
        "        '아직', '여건', '연락', '예정', '외박', '외출', '요청','유의','이야기', '이행','이후', '입소', '자신', '작성','전화','정리', '정적', '제공', '제출', '조치', '종료',\n",
        "        '주거지', '주거지원', '준비','지도','지원', '지지', '직원', '진행', '참여', '처리','통보','퇴소','확인', '활동','변경','가능','일부','심사','결정','전환','강조',\n",
        "        '보호종료','개시','동일','파악','재차','사용','주기','연결','마무리', '사실','기재','얼마','의사','사료','변동','참여자','기타','단계','완료', '귀하','혼자','당장',\n",
        "        '해당','해지','인계','각종', '번호','취지','참고','보도','약간','대신','진단','물음','회의','양해','완전','유선','부분','만료','상기 대상자','상기자','패키지','가장',\n",
        "\n",
        "        #쓸모없는 토큰\n",
        "        '가지','고자', '고함','구들', '금은','기반', '기하','동안', '되어', '드림', '때문', '또한', '려고', '로부터','다해' ,'대하', '대한', '대해', '더욱', '도로', '도록',\n",
        "        '만원', '만큼' , '면서', '모습', '문하', '바로',  '보이', '보임','부분계획', '부터', '부하', '사항', '상기', '않아', '양곡','어서','위해', '유의면서','이행상',\n",
        "        '인의', '인하','있는', '있다고', '있도록', '있어', '있으며', '있음', '자로','전하', '전함','정도','중이', '중임', '지부', '지소', '통해','특이', '하겠다고', '하고',\n",
        "        '하고자', '하기', '하는', '하도록','하며', '하면서', '하여', '하였으며', '하였음', '하자', '하지','해주','통한','다가','처럼','하라','주지','무하','더라도','요하',\n",
        "        '여부','중인','달라', '물어','어가','상의','고하','라하','대로','어보','지고','이하','한지','각하','영하','알리','여러','바란','아무','이제','서도','당하','여서',\n",
        "        '립하','보기','로서','도래','지원이','남지','가기','지원기','조리','간다','만하','주어','시킴', '리지','아지','고용보', '족하','어도','성하','교하','일이','기해',\n",
        "        '일해','해하','달이','결하','조성하','제하','장일','도중','소가','심해','일어','일도','을시','도록','시운전',\n",
        "        #청소년 관련 단어 \n",
        "        \"학생\",\"징계\",\"친구\",\"선생님\",\"잘못\",\"청소년\",\"태도\",\"핸드폰\",\"아버지\",\"프로그램\",\"광주\",\n",
        "        \"가정법원\",\"처분\",\"취침\",\"시경\",\"학교\",\"보호자\",\"검정고시\",\"무단\",\"언니\",\"무단이탈\",\"금지\",\"허락\",\"사건\",\n",
        "        \"합격\",\"친구들\",\"미래\",\"반성\",\"동행\",\"보호처분\",\"이유\",\"사고\",\"야간\",\"청소\",\"감정\",\"위반\",\"남자친구\",\n",
        "        \"제한\",\"출석\",\"등교\",\"자녀\",\"고등학교\",\"아이\",\"표현\",\"학업\",\"지시\",\"인지\",'신청','저축', '일자리', '건강관리',\n",
        "        \"문제\", \"희망\", \"최선\", \"면담\", \"안정적\", \"안정\", \"특이사항\", \"유의\", \"이행상황\", \"사업\", \"전달\", \"성공\", \"사무실\", \"일자리\",\n",
        "        \"약속\", \"설명\", \"관계\", \"특별\", \"신경\", \"안전\", \"안전사고\", \"가정\", \"적극적\", \"마음\", \"철저\", \"아보\", \"명절\",\"사하\", \"원호\",\n",
        "        \"지급\", \"환경\"]"
      ],
      "execution_count": null,
      "outputs": []
    },
    {
      "cell_type": "code",
      "metadata": {
        "id": "vmGe5fJPgZcX"
      },
      "source": [
        "from ckonlpy.tag import Postprocessor\n",
        "#\n",
        "replace = {'주거지':'거주지' , \"행동\":\"태도\", \"애로\":\"특이\",\"주의\":\"유의\", \"상황\":\"상태\",\"열심\":\"성실\", \"불편\":\"어려움\", \"관리\":\"조치\", \n",
        "           '근로':'근무', '근속':'근무', '주의':'유의', '지지':'독려', '격려':'독려', '열심':'노력', '애로':'필요', '어려움':'문제', \n",
        "           '하라':'독려','의지':'노력', '지부':'공단', '지금':'현재', '회사':'일자리', '오늘':'현재',\n",
        "            \"전화\":\"통화\", \"통화\":\"연락\",\"유선\":\"연락\", \"자립\":\"노력\", \"직장\":\"업무\"}\n",
        "postprocessor = Postprocessor(twitter, replace = replace, passtags = 'Noun', stopwords = stopwords) \n",
        "# postprocessor.pos(data)"
      ],
      "execution_count": null,
      "outputs": []
    },
    {
      "cell_type": "code",
      "metadata": {
        "id": "D2FRA0ymojz7"
      },
      "source": [
        "data"
      ],
      "execution_count": null,
      "outputs": []
    },
    {
      "cell_type": "code",
      "metadata": {
        "id": "plEulzBA2o58"
      },
      "source": [
        "def twtt(dfname):\n",
        "  lists = np.array(dfname['CONSULT_CONT'].tolist())\n",
        "\n",
        "  dfname = np.array(dfname['CONSULT_CONT'].tolist())\n",
        "\n",
        "  morphs = [] \n",
        "  for sentence in lists: \n",
        "    morphs.append(postprocessor.pos(sentence)) \n",
        "\n",
        "  noun=[] \n",
        "\n",
        "  for sentence in morphs : \n",
        "    for word, tag in sentence : \n",
        "      if tag in ['Noun'] and (\"것\" not in word) and (\"내\" not in word)and (\"나\" not in word) and (\"수\" not in word) and (\"게\"not in word) and (\"말\"not in word): \n",
        "          if len(word) > 1:\n",
        "            noun.append(word)\n",
        "  count = Counter(noun)\n",
        "  words = dict(count.most_common(150))\n",
        "  return words"
      ],
      "execution_count": null,
      "outputs": []
    },
    {
      "cell_type": "code",
      "metadata": {
        "id": "_qJtCR-F2rnT"
      },
      "source": [
        "words=twtt(df)"
      ],
      "execution_count": null,
      "outputs": []
    },
    {
      "cell_type": "code",
      "metadata": {
        "id": "fw4N0W9N9Qgd"
      },
      "source": [
        ""
      ],
      "execution_count": null,
      "outputs": []
    },
    {
      "cell_type": "code",
      "metadata": {
        "id": "5DQvCC5HgbNm"
      },
      "source": [
        "# morphs = []\n",
        "# for sentence in data: \n",
        "#   tmp = postprocessor.pos(sentence)\n",
        "#   tmp = [x for x in tmp if len(x)>1]\n",
        "#   morphs.append(tmp) #twitter.pos(sentence)\n",
        "  \n",
        "# print(morphs)"
      ],
      "execution_count": null,
      "outputs": []
    },
    {
      "cell_type": "code",
      "metadata": {
        "id": "RRTzNi9YxRUo"
      },
      "source": [
        "word_list = sorted(words.items(), key=lambda x: x[1], reverse=True)"
      ],
      "execution_count": null,
      "outputs": []
    },
    {
      "cell_type": "code",
      "metadata": {
        "id": "Wb6nGV4IHPkQ"
      },
      "source": [
        "word_list"
      ],
      "execution_count": null,
      "outputs": []
    },
    {
      "cell_type": "code",
      "metadata": {
        "id": "Z8QRuHDzAsmt"
      },
      "source": [
        "word_list[0:100]"
      ],
      "execution_count": null,
      "outputs": []
    },
    {
      "cell_type": "code",
      "metadata": {
        "id": "27Ka82MixTC9"
      },
      "source": [
        "plt.rc('font',size=15)\n",
        "fontprop = fm.FontProperties(fname= '/usr/share/fonts/truetype/nanum/NanumBarunGothic.ttf', size=20)\n",
        "fig = plt.figure(figsize=(15,50))\n",
        "fig.patch.set_facecolor('white')\n",
        "max = 100\n",
        "sns_plot=sns.barplot([i[1] for i in word_list[:max]],\n",
        "            [i[0] for i in word_list[:max]])\n",
        "sns_plot.set_title(\"Frequency Top 100\")\n",
        "sns_plot.set_ylabel(\"단어\")\n",
        "sns_plot.set_xlabel(\"빈도\")\n",
        "fig = sns_plot.get_figure()\n",
        "fig.savefig('연령10.png')"
      ],
      "execution_count": null,
      "outputs": []
    },
    {
      "cell_type": "markdown",
      "metadata": {
        "id": "4Q_bAJt9rKPP"
      },
      "source": [
        "#연령별 "
      ]
    },
    {
      "cell_type": "code",
      "metadata": {
        "id": "4dOdSgu0rMiI"
      },
      "source": [
        "df10 = df[df['연령']==10]\n",
        "df20 = df[df['연령']==20]\n",
        "df30 = df[df['연령']==30]\n",
        "df40 = df[df['연령']==40]\n",
        "df50 = df[df['연령']==50]\n",
        "df60 = df[df['연령']==60]\n",
        "df70 = df[df['연령']==70]\n",
        "\n",
        "\n",
        "df2030 = df20.append(df30)\n",
        "df4050 = df40.append(df50)\n",
        "df6070 = df60.append(df70)"
      ],
      "execution_count": null,
      "outputs": []
    },
    {
      "cell_type": "code",
      "metadata": {
        "id": "kveBVrna77db"
      },
      "source": [
        "df405060 = df40.append(df50).append(df60)"
      ],
      "execution_count": null,
      "outputs": []
    },
    {
      "cell_type": "code",
      "metadata": {
        "id": "1BVc_NpA76-p"
      },
      "source": [
        "10 20 3040 5060 70"
      ],
      "execution_count": null,
      "outputs": []
    },
    {
      "cell_type": "code",
      "metadata": {
        "id": "IrRw7SNirWDo"
      },
      "source": [
        "df10 = df10[df10.groupby(['DSJ_JUMIN_NO'])['DSJ_JUMIN_NO'].transform('count') >= 2]\n",
        "df20 = df20[df20.groupby(['DSJ_JUMIN_NO'])['DSJ_JUMIN_NO'].transform('count') >= 2]\n",
        "df30 = df30[df30.groupby(['DSJ_JUMIN_NO'])['DSJ_JUMIN_NO'].transform('count') >= 2]\n",
        "df40 = df40[df40.groupby(['DSJ_JUMIN_NO'])['DSJ_JUMIN_NO'].transform('count') >= 2]\n",
        "df50 = df50[df50.groupby(['DSJ_JUMIN_NO'])['DSJ_JUMIN_NO'].transform('count') >= 2]\n",
        "df60 = df60[df60.groupby(['DSJ_JUMIN_NO'])['DSJ_JUMIN_NO'].transform('count') >= 2]\n",
        "df70 = df70[df70.groupby(['DSJ_JUMIN_NO'])['DSJ_JUMIN_NO'].transform('count') >= 2]\n",
        "\n",
        "df2030 = df2030[df2030.groupby(['DSJ_JUMIN_NO'])['DSJ_JUMIN_NO'].transform('count') >= 2]\n",
        "df4050 = df4050[df4050.groupby(['DSJ_JUMIN_NO'])['DSJ_JUMIN_NO'].transform('count') >= 2]\n",
        "df6070 = df6070[df6070.groupby(['DSJ_JUMIN_NO'])['DSJ_JUMIN_NO'].transform('count') >= 2]\n"
      ],
      "execution_count": null,
      "outputs": []
    },
    {
      "cell_type": "code",
      "metadata": {
        "id": "eSvNcSr4ISeL"
      },
      "source": [
        "df405060 = df405060[df405060.groupby(['DSJ_JUMIN_NO'])['DSJ_JUMIN_NO'].transform('count') >= 2]"
      ],
      "execution_count": null,
      "outputs": []
    },
    {
      "cell_type": "code",
      "metadata": {
        "id": "h1_61kO9rX4g"
      },
      "source": [
        "def twtt(dfname):\n",
        "  lists = np.array(dfname['CONSULT_CONT'].tolist())\n",
        "\n",
        "  dfname = np.array(dfname['CONSULT_CONT'].tolist())\n",
        "\n",
        "  morphs = [] \n",
        "  for sentence in lists: \n",
        "    morphs.append(postprocessor.pos(sentence)) \n",
        "\n",
        "  noun=[] \n",
        "\n",
        "  for sentence in morphs : \n",
        "    for word, tag in sentence : \n",
        "      if tag in ['Noun'] and (\"것\" not in word) and (\"내\" not in word)and (\"나\" not in word) and (\"수\" not in word) and (\"게\"not in word) and (\"말\"not in word): \n",
        "          if len(word) > 1:\n",
        "            noun.append(word)\n",
        "  count = Counter(noun)\n",
        "  words = dict(count.most_common(150))\n",
        "  return words\n"
      ],
      "execution_count": null,
      "outputs": []
    },
    {
      "cell_type": "markdown",
      "metadata": {
        "id": "VRIjI4bBs4KR"
      },
      "source": [
        "##연령대별 단어모음"
      ]
    },
    {
      "cell_type": "code",
      "metadata": {
        "id": "aUTkCJvkO-Kh"
      },
      "source": [
        "print(words70)"
      ],
      "execution_count": null,
      "outputs": []
    },
    {
      "cell_type": "code",
      "metadata": {
        "id": "36lPsjGhrn7s"
      },
      "source": [
        "words10=twtt(df10)\n",
        "words20=twtt(df20)\n",
        "words30=twtt(df30)\n",
        "words40=twtt(df40)\n",
        "words50=twtt(df50)\n",
        "words60=twtt(df60)\n",
        "words70=twtt(df70)"
      ],
      "execution_count": null,
      "outputs": []
    },
    {
      "cell_type": "code",
      "metadata": {
        "id": "ocrdM15P8aQB"
      },
      "source": [
        "words10=twtt(df10)\n",
        "words2030=twtt(df2030)\n",
        "words4050=twtt(df4050)\n",
        "words6070=twtt(df6070)"
      ],
      "execution_count": null,
      "outputs": []
    },
    {
      "cell_type": "code",
      "metadata": {
        "id": "srHoHHKrIFJ9"
      },
      "source": [
        "words10=twtt(df10)\n",
        "words2030=twtt(df2030)\n",
        "words405060=twtt(df405060)\n",
        "words70=twtt(df70)"
      ],
      "execution_count": null,
      "outputs": []
    },
    {
      "cell_type": "code",
      "metadata": {
        "id": "p59NZdyp7i-W"
      },
      "source": [
        "words10=twtt(df10)\n",
        "words20=twtt(df20)\n",
        "words3040=twtt(df3040)\n",
        "words5060=twtt(df5060)\n",
        "words70=twtt(df70)"
      ],
      "execution_count": null,
      "outputs": []
    },
    {
      "cell_type": "code",
      "metadata": {
        "id": "--55a8JjaRA9"
      },
      "source": [
        "wordsall = twtt(df)"
      ],
      "execution_count": null,
      "outputs": []
    },
    {
      "cell_type": "markdown",
      "metadata": {
        "id": "LeOFqSaxum8m"
      },
      "source": [
        "##히트맵 불용어"
      ]
    },
    {
      "cell_type": "code",
      "metadata": {
        "id": "olKSesilulMa"
      },
      "source": [
        "removewords= []\n",
        "              # \"아르바이트\",\"건강관리\",\"업체\",\"연장\",\"적극적\",\"시작\",\n",
        "              # \"출근\",\"노력\",\"안정적\",\"개인\",\"복귀\", \"규칙\",\"최선\",\"용접\",\"아보\",\"신청\",\n",
        "              # \"고령\",\"복귀\",\"태도\",\"규칙\",\"지속\"]"
      ],
      "execution_count": null,
      "outputs": []
    },
    {
      "cell_type": "code",
      "metadata": {
        "id": "zjFlks5uRIvd"
      },
      "source": [
        "for i in removewords:\n",
        "  if i in words10:\n",
        "    del words10[i]\n",
        "  else:\n",
        "    pass\n",
        "\n",
        "for i in removewords:\n",
        "  if i in words2030:\n",
        "    del words2030[i]\n",
        "  else:\n",
        "    pass\n",
        "\n",
        "for i in removewords:\n",
        "  if i in words405060:\n",
        "    del words405060[i]\n",
        "  else:\n",
        "    pass\n",
        "\n",
        "for i in removewords:\n",
        "  if i in words70:\n",
        "    del words70[i]\n",
        "  else:\n",
        "    pass"
      ],
      "execution_count": null,
      "outputs": []
    },
    {
      "cell_type": "code",
      "metadata": {
        "id": "648PqOtKsGWF"
      },
      "source": [
        "\n",
        "for i in removewords:\n",
        "  if i in words10:\n",
        "    del words10[i]\n",
        "  else:\n",
        "    pass\n",
        "\n",
        "for i in removewords:\n",
        "  if i in words20:\n",
        "    del words20[i]\n",
        "  else:\n",
        "    pass\n",
        "\n",
        "for i in removewords:\n",
        "  if i in words30:\n",
        "    del words30[i]\n",
        "  else:\n",
        "    pass\n",
        "\n",
        "for i in removewords:\n",
        "  if i in words40:\n",
        "    del words40[i]\n",
        "  else:\n",
        "    pass\n",
        "\n",
        "for i in removewords:\n",
        "  if i in words50:\n",
        "    del words50[i]\n",
        "  else:\n",
        "    pass\n",
        "\n",
        "for i in removewords:\n",
        "  if i in words60:\n",
        "    del words60[i]\n",
        "  else:\n",
        "    pass\n",
        "for i in removewords:\n",
        "  if i in words70:\n",
        "    del words70[i]\n",
        "  else:\n",
        "    pass\n",
        "\n",
        "for i in removewords:\n",
        "  if i in words3040:\n",
        "    del words3040[i]\n",
        "  else:\n",
        "    pass\n",
        "\n",
        "for i in removewords:\n",
        "  if i in words5060:\n",
        "    del words5060[i]\n",
        "  else:\n",
        "    pass\n"
      ],
      "execution_count": null,
      "outputs": []
    },
    {
      "cell_type": "markdown",
      "metadata": {
        "id": "F9N-KfKttTHb"
      },
      "source": [
        "#히트맵"
      ]
    },
    {
      "cell_type": "code",
      "metadata": {
        "id": "olPJza7_miOV"
      },
      "source": [
        "#plt.rc('font',size=15)\n",
        "plt.rc('font',size=16)\n",
        "df = pd.DataFrame([words2030, words405060, words70,words10]).T\n",
        "df.columns = [ '청년', '중장년', '노년', '청소년']\n",
        "\n",
        "df = df.apply(lambda x : x / np.sum(x))\n",
        "df = df.apply(lambda x : (x-np.min(x)) / (np.max(x)-np.min(x))) #Heatmap에 상대적인 빈도수 출력하고싶을때\n",
        "\n",
        "figure = plt.figure(figsize=(6,5))\n",
        "ax = plt.axes()\n",
        "heat=sns.heatmap(df.sort_values(df.columns[0], ascending=False).iloc[:10], annot=True, fmt = '.3f', linewidths=0.3, cmap = 'Blues', ax = ax)\n",
        "# ax.set_title('숙식 데이터')\n",
        "plt.show()\n",
        "# cbar는 오른쪽에 있는 막대(범주)를 표시 annot는 계수를 표시annot_kws는 글자 크기를 지정 fmt :소수점 자리수 지정 square는 정사각형으로 지정, False로 설정시 직사각형 cmap 색상을 지정\n",
        "# figure.savefig('연령별 숙식.png', format='png',dpi=1200)"
      ],
      "execution_count": null,
      "outputs": []
    },
    {
      "cell_type": "markdown",
      "metadata": {
        "id": "-M7JnyBRPdy7"
      },
      "source": [
        "##숙식 재범\n"
      ]
    },
    {
      "cell_type": "code",
      "metadata": {
        "id": "DDpIdBMnPj0h"
      },
      "source": [
        "df = df[(df['연령']!=10)]"
      ],
      "execution_count": null,
      "outputs": []
    },
    {
      "cell_type": "code",
      "metadata": {
        "id": "miF3dz-iPw_k"
      },
      "source": [
        "df0 = df[df['JAEBUM_1']==0]\n",
        "df1 = df[(df['JAEBUM']>=1) & (df['JAEBUM']<2)]\n",
        "df2 = df[df['JAEBUM']>=2]"
      ],
      "execution_count": null,
      "outputs": []
    },
    {
      "cell_type": "code",
      "metadata": {
        "id": "dJn8MutyP99l"
      },
      "source": [
        "twitter = Twitter() \n",
        "twitter.add_dictionary(['당직자','허그집단프로그램', '숙식보호', '직업훈련', '적극적', '보호관찰', '프로그램 종료', '지원이유', '지금', '특별한사항', '이행사항', '용접기술교육원', '취업알선', '특수용접기능사', '유의사항', '취업박람회', '허그일자리프로그램', '건강관리', '긴급원호', '상기 인', '야간반', '여성기술교육원', '용접배관', '주거지원자', '가족관계', '허그일자리지원프로그램', '고용보험', '상기자', '영농기술교육원', '안전사고', '안정적', '준수사항', '보호종료', '취업지원 프로그램', '구직활동', '대형면허', '건축도장기능사', '건강문제', '친구들', '거주지', '집단상담', '시설관리직', '필기합격', '긍정적', '주거지원', '출결관리', '가족부양', '참여자', '허그 일자리 프로그램', '전기기술교육원', '이행상황', '자기관리', '기술교육원', '기초수급자', '정산금', '특이사항', '애로사항', '용접기능사', '사후관리', '보호관찰법', '기계가공기술교육원', '지원기회', '보호사업', '보호관찰소', '생활 준칙', '위문물품', '법무보호가족교육원', '실기합격', '주거지', '지출관리', '외출 요청', '예치금', '생활관 준칙', '합동결혼식', '용접기능훈련', '미납금', '상기 대상자', '사회성향상 프로그램', '규칙적', '가족희망센터', '몸관리', '상기인', '보호관찰소장', '안전관리', '경제적', '입주자', '취업성공패키지', '보호위원', '허그일자리 프로그램', '허그일자리사업', '집단프로그램', '기초수급', '장기간', '허그 일자리 집단프로그램', '보호종료자', '자동차정비기술교육원', '허그일자리', '식구들', '변동사항', '생활관준칙', '용접훈련', '자립이행상황통보서'], 'Noun')"
      ],
      "execution_count": null,
      "outputs": []
    },
    {
      "cell_type": "code",
      "metadata": {
        "id": "k1LZtM4hP94D"
      },
      "source": [
        "from ckonlpy.tag import Postprocessor\n",
        "\n",
        "\n",
        "stopwords= ['도록', '만원','개월','금일', '기간','겨울','년도', '날짜','금월','까지', '날씨', '어제', '이번','지금','최근', '추후','하루', '한번', '항상','현재','시일','오늘','조기','그동안','다음주',\n",
        "        '평소','차후','지난','요즘','아침','오전','오후','예전','한해','전일','여름','시기', '가끔','사이','최종','명일',\n",
        "        #지역 위치나타내는 단어\n",
        "        '경기도','김해','서울','울산','천안',\n",
        "        #필요없어보이는 단어\n",
        "          '격려', '결과', '경우', '계속', '계획', '공단', '과정', '관련', '관리','근황','기관','보호', '본인','다른', '다소', '다시', '다음', '담당', '담당자', '당부',\n",
        "        '대상자', '독려',  '마련','멘토링','문자', '문제', '발생', '방문', '보고','상기인', '상담', '상태', '상황', '생활', '생활관', '소하', '숙식', '스스로', '시간', '실시',\n",
        "        '아직', '여건', '연락', '예정', '외박', '외출', '요청','유의','이야기', '이행','이후', '입소', '자신', '작성','전화','정리', '정적', '제공', '제출', '조치', '종료', '주거', \n",
        "        '주거지', '주거지원', '준비','지도','지원', '지지', '직원', '진행', '참여', '처리','통보','퇴소','확인', '활동','변경','가능','일부','심사','결정','전환','강조', '패키지',\n",
        "        '보호종료','개시','동일','파악','재차','사용','주기','연결','마무리', '사실','기재','얼마','의사','사료','변동','참여자','기타','단계','완료', '귀하','혼자','당장','가장',\n",
        "         '해당','해지','인계','각종', '번호','취지','참고','보도','약간','대신','진단','물음','회의','양해','완전','유선','부분','만료',\n",
        "        #걸러야하는 단어\n",
        "        '가지','고자', '고함','구들', '금은','기반', '기하','동안', '되어', '드림', '때문', '또한', '려고', '로부터','다해' ,'대하', '대한', '대해', '더욱', '도로', '도록'\n",
        "        '만원', '만큼' , '면서', '모습', '문하', '바로',  '보이', '보임','부분계획', '부터', '부하', '사항', '상기', '않아', '양곡','어서','위해', '유의면서','이행상',\n",
        "        '인의', '인하','있는', '있다고', '있도록', '있어', '있으며', '있음', '자로','전하', '전함','정도','중이', '중임', '지부', '지소', '통해','특이', '하겠다고', '하고',\n",
        "        '하고자', '하기', '하는', '하도록','하며', '하면서', '하여', '하였으며', '하였음', '하자', '하지','해주','통한','다가','처럼','하라','주지','무하','더라도','요하',\n",
        "        '여부','중인','달라', '물어','어가','상의','고하','라하','대로','어보','지고','이하','한지','각하','영하','알리','여러','바란','아무','이제','서도','당하','여서',\n",
        "        '립하','보기','로서','도래','지원이','남지','가기','지원기','조리','간다','만하','주어','시킴', '리지','아지','고용보', '족하','어도','성하','교하','일이','기해','시운전',\n",
        "        '일해','해하','달이','결하','조성하','제하','장일','도중','소가','심해','일어','일도','을시',\n",
        "        \n",
        "        '자립','성실','노력','열심','희망']\n",
        "\n",
        "\n",
        "replace = {'거주지': '주거지', \"행동\":\"태도\", \"통화\":\"전화\", \"연락\":\"통화\", \"애로\":\"특이\",\"주의\":\"유의\", \"상황\":\"상태\",\"열심\":\"성실\", \"불편\":\"어려움\", \"관리\":\"조치\", '근로':'근무', '근속':'근무', '주의':'유의', '지지':'독려', '격려':'독려', '열심':'노력', '애로':'필요', '어려움':'문제', '하라':'독려', '유선':'연락', '전화':'연락', '의지':'노력', '지부':'공단', '지금':'현재', '회사':'일자리', '오늘':'현재'}\n",
        "postprocessor = Postprocessor(twitter, replace = replace, passtags = 'Noun', stopwords = stopwords)"
      ],
      "execution_count": null,
      "outputs": []
    },
    {
      "cell_type": "code",
      "metadata": {
        "id": "qL4wfyihQAJ8"
      },
      "source": [
        "#불용어 처리\n",
        "#날짜 계정 등 시기를 나타내는 단어\n",
        "\n",
        "# postprocessor.pos(data)\n",
        "\n",
        "def twtt(dfname):  \n",
        "  lists = np.array(dfname['CONSULT_CONT'].tolist())\n",
        "\n",
        "  dfname = np.array(dfname['CONSULT_CONT'].tolist())\n",
        "\n",
        "  morphs = [] \n",
        "  for sentence in lists: \n",
        "    morphs.append(postprocessor.pos(sentence)) \n",
        "\n",
        "  noun=[] \n",
        "\n",
        "  for sentence in morphs : \n",
        "    for word, tag in sentence : \n",
        "      if tag in ['Noun'] and (\"것\" not in word) and (\"내\" not in word)and (\"나\" not in word) and (\"수\" not in word) and (\"게\"not in word) and (\"말\"not in word): \n",
        "          if len(word) > 1:\n",
        "            noun.append(word)\n",
        "  count = Counter(noun)\n",
        "  words = dict(count.most_common(150))\n",
        "  return words\n"
      ],
      "execution_count": null,
      "outputs": []
    },
    {
      "cell_type": "code",
      "metadata": {
        "id": "iNQbDXaBQEDE"
      },
      "source": [
        "words0=twtt(df0)\n",
        "words1=twtt(df1)\n",
        "words2=twtt(df2)"
      ],
      "execution_count": null,
      "outputs": []
    },
    {
      "cell_type": "code",
      "metadata": {
        "id": "o-4vI3oRQSt_"
      },
      "source": [
        "words_AA=words0\n",
        "words_BB=words1\n",
        "words_CC=words2"
      ],
      "execution_count": null,
      "outputs": []
    },
    {
      "cell_type": "code",
      "metadata": {
        "id": "wezCdQ8wTDWA"
      },
      "source": [
        "words_AA['면접']"
      ],
      "execution_count": null,
      "outputs": []
    },
    {
      "cell_type": "code",
      "metadata": {
        "id": "UVpNl_vfQUCN"
      },
      "source": [
        "#removewords = ['건강관리','유의','가족','교육','건강','신청','연장','복귀','태도','전달','사무실','지속','문제','생각','규칙','개인','사회','일자리','허그일자리','시험','최선','적응','마음','안정적','현장','노력','사람','관계','초범','취득','운전','필요','병원','장기','애로사항','특이사항','조금','신경','저녁','청소','출근','어려움','용접','업체','특별','직장','설명','권유','적극적','약속','성공','아보','동료','철저']\n",
        "\n",
        "removewords = ['건강','교육','일자리','건강관리','병원','지속','문제','연장','신청','취득','생각',\"면담\",'사회','개인','유의','최선','복귀','현장','사무실','적응','운전','구직활동','필요','출근','전달','시험','마음','특이사항','애로사항','노력','장기','업체','어려움','안정적','신경','가족','직장','사람','용접','조금','성공','규칙','아보','지인','권유','관계']"
      ],
      "execution_count": null,
      "outputs": []
    },
    {
      "cell_type": "code",
      "metadata": {
        "id": "wl7NfhLgQU2Q"
      },
      "source": [
        "for i in removewords:\n",
        "  if i in words_AA:\n",
        "    del words_AA[i]\n",
        "  else:\n",
        "    pass\n",
        "for i in removewords:\n",
        "  if i in words_BB:\n",
        "    del words_BB[i]\n",
        "  else:\n",
        "    pass\n",
        "for i in removewords:\n",
        "  if i in words_CC:\n",
        "    del words_CC[i]\n",
        "  else:\n",
        "    pass  \n"
      ],
      "execution_count": null,
      "outputs": []
    },
    {
      "cell_type": "code",
      "metadata": {
        "id": "fXs7vcNFU1rK"
      },
      "source": [
        "#plt.rc('font',size=15)\n",
        "plt.rc('font',size=16)\n",
        "df = pd.DataFrame([words_AA, words_BB, words_CC]).T\n",
        "df.columns = [ '초범', '재범1번', '재범2번이상']\n",
        "\n",
        "df = df.apply(lambda x : x / np.sum(x))\n",
        "df = df.apply(lambda x : (x-np.min(x)) / (np.max(x)-np.min(x))) #Heatmap에 상대적인 빈도수 출력하고싶을때\n",
        "\n",
        "figure = plt.figure(figsize=(6,5))\n",
        "ax = plt.axes()\n",
        "heat=sns.heatmap(df.sort_values(df.columns[0], ascending=False).iloc[:10], annot=True, fmt = '.3f', linewidths=0.3, cmap = 'Blues', ax = ax)\n",
        "# ax.set_title('숙식 데이터')\n",
        "plt.show()\n",
        "# cbar는 오른쪽에 있는 막대(범주)를 표시 annot는 계수를 표시annot_kws는 글자 크기를 지정 fmt :소수점 자리수 지정 square는 정사각형으로 지정, False로 설정시 직사각형 cmap 색상을 지정\n",
        "# figure.savefig('연령별 숙식.png', format='png',dpi=1200)"
      ],
      "execution_count": null,
      "outputs": []
    },
    {
      "cell_type": "code",
      "metadata": {
        "id": "t7l33o3xQV3s"
      },
      "source": [
        ""
      ],
      "execution_count": null,
      "outputs": []
    },
    {
      "cell_type": "markdown",
      "metadata": {
        "id": "EJSxULQuGH3h"
      },
      "source": [
        "#Clustering"
      ]
    },
    {
      "cell_type": "markdown",
      "metadata": {
        "id": "D0zOgNxmJfed"
      },
      "source": [
        "##전처리 불용어 재처리"
      ]
    },
    {
      "cell_type": "code",
      "metadata": {
        "id": "yV2JGliwJdUb"
      },
      "source": [
        "twitter = Twitter() \n",
        "twitter.add_dictionary(['허그집단프로그램','담당직원','사회복귀','당직자', '숙식보호', '직업훈련', '적극적', '보호관찰', '프로그램 종료', '지원이유', '지금', '특별한사항', \n",
        "                        '이행사항', '용접기술교육원', '취업알선', '특수용접기능사', '유의사항', '취업박람회', '허그일자리프로그램', '건강관리', '긴급원호', '상기 인', '야간반', \n",
        "                        '여성기술교육원', '용접배관', '주거지원자', '가족관계', '허그일자리지원프로그램', '고용보험', '상기자', '영농기술교육원', '안전사고', '안정적', '준수사항', \n",
        "                        '보호종료', '취업지원 프로그램', '구직활동', '대형면허', '건축도장기능사', '건강문제', '친구들', '거주지', '집단상담', '시설관리직', '필기합격', '긍정적', \n",
        "                        '주거지원', '출결관리', '가족부양', '참여자', '허그 일자리 프로그램', '전기기술교육원', '이행상황', '자기관리', '기술교육원', '기초수급자', '정산금', '특이사항', \n",
        "                        '애로사항', '용접기능사', '사후관리', '보호관찰법', '기계가공기술교육원', '지원기회', '보호사업', '보호관찰소', '생활 준칙', '위문물품', '법무보호가족교육원', \n",
        "                        '실기합격', '주거지', '지출관리', '외출 요청', '예치금', '생활관 준칙', '합동결혼식', '용접기능훈련', '미납금', '상기 대상자', '사회성향상 프로그램', '규칙적', \n",
        "                        '가족희망센터', '몸관리', '상기인', '보호관찰소장', '안전관리', '경제적', '입주자', '취업성공패키지', '보호위원', '허그일자리 프로그램', '허그일자리사업', \n",
        "                        '집단프로그램', '기초수급', '장기간', '허그 일자리 집단프로그램', '보호종료자', '자동차정비기술교육원', '허그일자리', '식구들', '변동사항', '생활관준칙', '용접훈련', \n",
        "                        '자립이행상황통보서'], 'Noun')"
      ],
      "execution_count": null,
      "outputs": []
    },
    {
      "cell_type": "code",
      "metadata": {
        "id": "LvTgyyk2Jp31"
      },
      "source": [
        "#불용어 처리\n",
        "#날짜 계정 등 시기를 나타내는 단어\n",
        "stopwords= [ #날짜 계정 등 시기를 나타내는 토큰\n",
        "        '개월','금일', '기간','겨울','년도', '날짜','금월','까지', '날씨', '어제', '이번','최근', '추후','하루', '한번', '항상','현재','시일','조기','그동안',\n",
        "        '다음주','평소','차후','지난','요즘','아침','오전','오후','예전','한해','전일','여름','시기', '가끔','사이','최종','명일','향후',\n",
        "\n",
        "        #지역 위치나타내는 토큰\n",
        "        '경기도', '김해', '서울', '울산', '천안', '당부',\n",
        "        \n",
        "        #관련없는 토큰\n",
        "        '결과', '경우', '계속', '계획', '공단', '과정', '관련', '관리','근황','기관','본인','다른', '다소', '다시', '다음', '담당', '담당자','실시','상기',\n",
        "        '대상자','멘토링','문자', '발생', '방문', '보고','상기인', '상담', '상태', '상황', '생활', '생활관', '소하', '스스로', '시간',\n",
        "        '아직', '여건', '예정', '외박', '외출', '요청','이야기', '이행','이후', '입소', '자신', '작성','정리', '정적', '제공', '제출', '조치', '종료',\n",
        "        '주거지원', '준비','지도','지원', '직원', '진행', '참여', '처리','통보','퇴소','확인', '활동','변경','가능','일부','심사','결정','강조',\n",
        "        '보호종료','개시','동일','파악','재차','사용','주기','연결','마무리', '사실','기재','얼마','의사','사료','참여자','기타','단계','완료', '귀하','혼자','당장',\n",
        "        '해당','인계','각종', '번호','취지','참고','보도','약간','대신','진단','물음','회의','양해','완전','부분','만료','상기 대상자','상기자','패키지','가장',\n",
        "\n",
        "        #쓸모없는 토큰\n",
        "        '가지','고자', '고함','구들', '금은','기반', '기하','동안', '되어', '드림', '때문', '또한', '려고', '로부터','다해' ,'대하', '대한', '대해', '더욱', '도로',\n",
        "        '만원', '만큼' , '면서', '모습', '문하', '바로',  '보이', '보임','부분계획', '부터', '부하', '사항', '않아', '양곡','어서','위해', '유의면서','이행상',\n",
        "        '인의', '인하','있는', '있다고', '있도록', '있어', '있으며', '있음', '자로','전하', '전함','정도','중이', '중임', '지소', '통해','특이', '하겠다고', '하고',\n",
        "        '하고자', '하기', '하는', '하도록','하며', '하면서', '하여', '하였으며', '하였음', '하자', '하지','해주','통한','다가','처럼','하라','주지','무하','더라도','요하',\n",
        "        '여부','중인','달라', '물어','어가','상의','고하','라하','대로','어보','지고','이하','한지','각하','영하','알리','여러','바란','아무','이제','서도','당하','여서',\n",
        "        '립하','보기','로서','도래','지원이','남지','가기','지원기','조리','간다','만하','주어','시킴', '리지','아지','고용보', '족하','어도','성하','교하','일이','기해',\n",
        "        '일해','해하','달이','결하','조성하','제하','장일','도중','소가','심해','일어','일도','을시','도록','시운전', '이루',\n",
        "        \n",
        "        # #청소년 관련 단어 \n",
        "        # \"학생\",\"징계\",\"친구\",\"선생님\",\"잘못\",\"청소년\",\"태도\",\"핸드폰\",\"아버지\",\"프로그램\",\"광주\",\n",
        "        # \"가정법원\",\"처분\",\"취침\",\"시경\",\"학교\",\"보호자\",\"검정고시\",\"무단\",\"언니\",\"무단이탈\",\"금지\",\"허락\",\"사건\",\n",
        "        # \"합격\",\"친구들\",\"미래\",\"반성\",\"동행\",\"보호처분\",\"이유\",\"사고\",\"야간\",\"청소\",\"감정\",\"위반\",\"남자친구\",\n",
        "        # \"제한\",\"출석\",\"등교\",\"자녀\",\"고등학교\",\"아이\",\"표현\",\"학업\",\"지시\",\"인지\",'신청','저축', '건강관리',\n",
        "        \"최선\", \"면담\", \"특이사항\", \"이행상황\", \"사업\", \"전달\", \"사무실\",\n",
        "        \"설명\", \"관계\", \"특별\", \"안전사고\", \"가정\", \"마음\", \"철저\", \"아보\", \"명절\",\"사하\", \"원호\",\n",
        "        \"환경\"]"
      ],
      "execution_count": null,
      "outputs": []
    },
    {
      "cell_type": "code",
      "metadata": {
        "id": "J9KBFqvrJq_l"
      },
      "source": [
        "from ckonlpy.tag import Postprocessor\n",
        "#\n",
        "replace = {'주소지':'거주지','주거지':'거주지', '행동':'태도', '애로':'특이', \n",
        "           '주의':'유의', '상황':'상태', '열심':'성실', '관리':'조치',  '애로':'필요', \n",
        "           '직장':'업무', '회사':'일자리', '지부':'공단',\n",
        "           '근로':'근무', '근속':'근무',\n",
        "           '불편':'문제', '어려움':'문제', \n",
        "           '지지':'독려', '격려':'독려','하라':'독려',\n",
        "           '열심':'노력', '의지':'노력', '자립':'노력',\n",
        "           '지금':'현재', '오늘':'현재',\n",
        "           '전화':'연락', '통화':'연락','유선':'연락',\n",
        "           '체납':'연체', '미납':'연체',\n",
        "           '안정적':'안정'\n",
        "           }\n",
        "postprocessor = Postprocessor(twitter, replace = replace, passtags = 'Noun', stopwords = stopwords) \n",
        "# postprocessor.pos(data)"
      ],
      "execution_count": null,
      "outputs": []
    },
    {
      "cell_type": "markdown",
      "metadata": {
        "id": "fyx8VCnfGT8c"
      },
      "source": [
        "##트위터유저데이터, PRETRAINED W2V"
      ]
    },
    {
      "cell_type": "code",
      "metadata": {
        "id": "d5MVXsJeGShj"
      },
      "source": [
        "!curl gdrive.sh | bash -s 13fQZtkz4SSzVNcqh73SBqnUDw2mSDgzL\n",
        "!curl gdrive.sh | bash -s 1W8u9ZuEhKCkTbaGLzUF4YcF2F_hYeE1B\n",
        "!curl gdrive.sh | bash -s 1GffvAF3tBtSpjsblIdP1Tcv25XEyBewm\n",
        "!curl gdrive.sh | bash -s 103jom7lxjiqQptIRjrIdSjXR8jRqrlEd"
      ],
      "execution_count": null,
      "outputs": []
    },
    {
      "cell_type": "code",
      "metadata": {
        "id": "-k_GrxK8Ge6b"
      },
      "source": [
        "from gensim.models import Word2Vec"
      ],
      "execution_count": null,
      "outputs": []
    },
    {
      "cell_type": "code",
      "metadata": {
        "id": "zCzRlA08Ggyw"
      },
      "source": [
        "# w2v모델 불러오기 \n",
        "model = Word2Vec.load('embedding.save')"
      ],
      "execution_count": null,
      "outputs": []
    },
    {
      "cell_type": "code",
      "metadata": {
        "id": "wSYF8jLhGl3w"
      },
      "source": [
        "#명사, 두글자이상 추출\n",
        "def get_tokens(x):\n",
        "    try:\n",
        "        return [i for i in postprocessor.pos(x) if len(i) > 1] if x else []\n",
        "    except Exception as e:\n",
        "        if str(x) == 'nan':\n",
        "            return []\n",
        "        print(e)\n",
        "        print(str(x))\n",
        "        raise e"
      ],
      "execution_count": null,
      "outputs": []
    },
    {
      "cell_type": "code",
      "metadata": {
        "id": "Tp_yLM1SGozX"
      },
      "source": [
        "df['user_twtt'] = df['CONSULT_CONT'].map(get_tokens)"
      ],
      "execution_count": null,
      "outputs": []
    },
    {
      "cell_type": "markdown",
      "metadata": {
        "id": "J8CpGk_lYVVY"
      },
      "source": [
        "##'noun'제거 및 데이터프레임에 추가."
      ]
    },
    {
      "cell_type": "code",
      "metadata": {
        "id": "w3XCNU3LNJfK"
      },
      "source": [
        "len(df)"
      ],
      "execution_count": null,
      "outputs": []
    },
    {
      "cell_type": "code",
      "metadata": {
        "id": "MCenICcoSDn8"
      },
      "source": [
        "nouns = []\n",
        "for i in range(len(df)):\n",
        "  words = [n for n, tag in df['user_twtt'].tolist()[i] if tag == 'Noun']\n",
        "  nouns.append(words)\n"
      ],
      "execution_count": null,
      "outputs": []
    },
    {
      "cell_type": "code",
      "metadata": {
        "id": "tcjlzVq-YmXh"
      },
      "source": [
        "df = df.assign(user_twtt=nouns)\n"
      ],
      "execution_count": null,
      "outputs": []
    },
    {
      "cell_type": "code",
      "metadata": {
        "id": "eXgG970WZTIr"
      },
      "source": [
        "df['user_twtt_len'] = df['user_twtt'].map(len)"
      ],
      "execution_count": null,
      "outputs": []
    },
    {
      "cell_type": "code",
      "metadata": {
        "id": "t7qX-iLhZB0X"
      },
      "source": [
        "df"
      ],
      "execution_count": null,
      "outputs": []
    },
    {
      "cell_type": "code",
      "metadata": {
        "id": "0rzcPz2JTy84"
      },
      "source": [
        "wlist = ['노력','취업', '성실', '근무', '임대료', '문제', '건강', '취득', '교육', '지속', '연장', '납부', '사후관리', '업무', '가족', '자격증', '직업훈련', '체납','연락',\n",
        " '연체', '운전', '시험', '경제적', '필요', '학원', '병원', '장기', '일용직', '용접', '생각', '구직활동', '적응', '사회', '유의', '주택', '치료', '창업', '일자리', \n",
        " '보증금', '현장', '도움', '업체','유지', '허그일자리','퇴거', '음주','이상', '조금', '취업알선', '애로사항', '개인','권유','공사', '조성','센터','복귀','사람',\n",
        " '소재', '시작', '조속', '생계', '건설', '기술', '운영', '자세','지인', '계약', '축하', '규칙','고지', '기초', '입교','어려움', '긴급원호', '동료', '점검','회복',\n",
        " '미납', '임대', '신청서', '재범', '서류', '참석', '급여', '고용', '금액', '면접', '이루', '종사', '아르바이트', '출근', '해결', '구직', '기적', '일정', '매우','저녁', \n",
        " '건전', '자동차', '생활비']"
      ],
      "execution_count": null,
      "outputs": []
    },
    {
      "cell_type": "code",
      "metadata": {
        "id": "XPEvsZ5oWf2a"
      },
      "source": [
        "listword = []\n",
        "for i in range(len(df2)):\n",
        "  a = df2['user_twtt'][i].count(\"전환\")\n",
        "  listword.append(a)\n",
        "df2 = df2.assign(전환=listword)\n"
      ],
      "execution_count": null,
      "outputs": []
    },
    {
      "cell_type": "code",
      "metadata": {
        "id": "nMLIzQX6qS7i"
      },
      "source": [
        "# df['전환'] = df['noun'].apply(lambda x : x.count('전환'))\n",
        "# df['임대'] = df['noun'].apply(lambda x : x.count('임대'))\n",
        "# df['회복'] = df['noun'].apply(lambda x : x.count('회복'))\n",
        "# df['점검'] = df['noun'].apply(lambda x : x.count('점검'))\n",
        "# df['야간'] = df['noun'].apply(lambda x : x.count('야간'))\n",
        "# df['동료'] = df['noun'].apply(lambda x : x.count('동료'))\n",
        "# df['긴급원호'] = df['noun'].apply(lambda x : x.count('긴급원호'))\n",
        "# df['입교'] = df['noun'].apply(lambda x : x.count('입교'))\n",
        "# df['프로그램'] = df['noun'].apply(lambda x : x.count('프로그램'))\n",
        "# df['기초'] = df['noun'].apply(lambda x : x.count('기초'))\n",
        "# df['고지'] = df['noun'].apply(lambda x : x.count('고지'))\n",
        "# df['합격'] = df['noun'].apply(lambda x : x.count('합격'))\n",
        "# df['규칙'] = df['noun'].apply(lambda x : x.count('규칙'))\n",
        "# df['지급'] = df['noun'].apply(lambda x : x.count('지급'))\n",
        "# df['축하'] = df['noun'].apply(lambda x : x.count('축하'))\n",
        "# df['계약'] = df['noun'].apply(lambda x : x.count('계약'))\n",
        "# df['지인'] = df['noun'].apply(lambda x : x.count('지인'))\n",
        "# df['자세'] = df['noun'].apply(lambda x : x.count('자세'))\n",
        "# df['운영'] = df['noun'].apply(lambda x : x.count('운영'))\n",
        "# df['기술'] = df['noun'].apply(lambda x : x.count('기술'))\n",
        "# df['건설'] = df['noun'].apply(lambda x : x.count('건설'))\n",
        "# df['생계'] = df['noun'].apply(lambda x : x.count('생계'))\n",
        "# df['조속'] = df['noun'].apply(lambda x : x.count('조속'))\n",
        "# df['시작'] = df['noun'].apply(lambda x : x.count('시작'))\n",
        "# df['소재'] = df['noun'].apply(lambda x : x.count('소재'))\n",
        "# df['사람'] = df['noun'].apply(lambda x : x.count('사람'))\n",
        "# df['복귀'] = df['noun'].apply(lambda x : x.count('복귀'))\n",
        "# df['센터'] = df['noun'].apply(lambda x : x.count('센터'))\n",
        "# df['조성'] = df['noun'].apply(lambda x : x.count('조성'))\n",
        "# df['공사'] = df['noun'].apply(lambda x : x.count('공사'))\n",
        "# df['권유'] = df['noun'].apply(lambda x : x.count('권유'))\n",
        "# df['개인'] = df['noun'].apply(lambda x : x.count('개인'))\n",
        "# df['적극적'] = df['noun'].apply(lambda x : x.count('적극적'))\n",
        "# df['주거'] = df['noun'].apply(lambda x : x.count('주거'))\n",
        "# df['태도'] = df['noun'].apply(lambda x : x.count('태도'))\n",
        "# df['애로사항'] = df['noun'].apply(lambda x : x.count('애로사항'))\n",
        "# df['취업알선'] = df['noun'].apply(lambda x : x.count('취업알선'))\n",
        "# df['조금'] = df['noun'].apply(lambda x : x.count('조금'))\n",
        "# df['이상'] = df['noun'].apply(lambda x : x.count('이상'))\n",
        "# df['음주'] = df['noun'].apply(lambda x : x.count('음주'))\n",
        "# df['퇴거'] = df['noun'].apply(lambda x : x.count('퇴거'))\n",
        "# df['허그일자리'] = df['noun'].apply(lambda x : x.count('허그일자리'))\n",
        "\n",
        "\n",
        "\n"
      ],
      "execution_count": null,
      "outputs": []
    },
    {
      "cell_type": "markdown",
      "metadata": {
        "id": "vuSHc1cwGxXU"
      },
      "source": [
        "## 명사수 5개 이상인 유저만 추출 "
      ]
    },
    {
      "cell_type": "code",
      "metadata": {
        "id": "0s81HX2mGzjs"
      },
      "source": [
        "#명사 5개이상 추출 \n",
        "df['user_twtt_len'].hist()"
      ],
      "execution_count": null,
      "outputs": []
    },
    {
      "cell_type": "code",
      "metadata": {
        "id": "DzrQu11DG1ER"
      },
      "source": [
        "bio_exists_df = df[df['user_twtt_len'] >= 25]"
      ],
      "execution_count": null,
      "outputs": []
    },
    {
      "cell_type": "code",
      "metadata": {
        "id": "ytW7qtWkG2fn"
      },
      "source": [
        "len(bio_exists_df)"
      ],
      "execution_count": null,
      "outputs": []
    },
    {
      "cell_type": "code",
      "metadata": {
        "id": "5dsSQ99dHFGe"
      },
      "source": [
        "bio_exists_df.sample(3)"
      ],
      "execution_count": null,
      "outputs": []
    },
    {
      "cell_type": "markdown",
      "metadata": {
        "id": "ELndcwJLHIC5"
      },
      "source": [
        "##유저의 벡터 = 각명사들 벡터의 MEAN "
      ]
    },
    {
      "cell_type": "code",
      "metadata": {
        "id": "h74EtpZWHGA4"
      },
      "source": [
        "#문맥이해하는 더 좋은 방법 적용 \n",
        "def get_sentence_mean_vector(morphs):\n",
        "    vector = []\n",
        "    for i in morphs:\n",
        "        try:\n",
        "            vector.append(model.wv[i])\n",
        "        except KeyError as e:\n",
        "            pass\n",
        "    try:\n",
        "        return np.mean(vector, axis=0)\n",
        "    except IndexError as e:\n",
        "        pass"
      ],
      "execution_count": null,
      "outputs": []
    },
    {
      "cell_type": "code",
      "metadata": {
        "id": "K7xdNTSMHMbr"
      },
      "source": [
        "bio_exists_df['wv'] = bio_exists_df['user_twtt'].map(get_sentence_mean_vector)"
      ],
      "execution_count": null,
      "outputs": []
    },
    {
      "cell_type": "markdown",
      "metadata": {
        "id": "rbv1GFeNHQyw"
      },
      "source": [
        "##300차원벡터"
      ]
    },
    {
      "cell_type": "code",
      "metadata": {
        "id": "KGFva2oGHOKn"
      },
      "source": [
        "len(bio_exists_df.dropna().head(1)['wv'].to_list()[0])"
      ],
      "execution_count": null,
      "outputs": []
    },
    {
      "cell_type": "markdown",
      "metadata": {
        "id": "dG0Vyz3pHWPp"
      },
      "source": [
        "##빈것 제거"
      ]
    },
    {
      "cell_type": "code",
      "metadata": {
        "id": "aBVt9nOkHXfR"
      },
      "source": [
        "bio_exists_df = bio_exists_df.dropna()\n",
        "#bio_exists_df = bio_exists_df.drop_duplicates('user.id')"
      ],
      "execution_count": null,
      "outputs": []
    },
    {
      "cell_type": "code",
      "metadata": {
        "id": "AjCg4JPkHYoW"
      },
      "source": [
        "len(bio_exists_df)"
      ],
      "execution_count": null,
      "outputs": []
    },
    {
      "cell_type": "markdown",
      "metadata": {
        "id": "45r6LOYnNHYI"
      },
      "source": [
        "#클러스터링"
      ]
    },
    {
      "cell_type": "markdown",
      "metadata": {
        "id": "z40WGa64XpVJ"
      },
      "source": [
        " ## 밀도 기반 클러스터링 DBSCAN"
      ]
    },
    {
      "cell_type": "code",
      "metadata": {
        "id": "XDFMlR5WiouD"
      },
      "source": [
        "!pip install mglearn"
      ],
      "execution_count": null,
      "outputs": []
    },
    {
      "cell_type": "markdown",
      "metadata": {
        "id": "tTUOztCJ3Qyd"
      },
      "source": [
        "벡터 표준화"
      ]
    },
    {
      "cell_type": "code",
      "metadata": {
        "id": "YzzxJXzbndBF"
      },
      "source": [
        "from sklearn.preprocessing import StandardScaler\n",
        "scaler = StandardScaler()\n",
        "scaler.fit(word_vectors)\n",
        "word_vectors_scaled = scaler.transform(word_vectors)"
      ],
      "execution_count": null,
      "outputs": []
    },
    {
      "cell_type": "markdown",
      "metadata": {
        "id": "EQZ-oAWc36o2"
      },
      "source": [
        "표준화 벡터에 dbscan"
      ]
    },
    {
      "cell_type": "code",
      "metadata": {
        "id": "eIk_Hm2CC4IH"
      },
      "source": [
        "# 표준화벡터\n",
        "# eps = 1.6, min_samples = 6 -> 이상치 23783 ----\n",
        "# eps = 3, min_samples = 3 -> 이상치 23496 ----\n",
        "# eps = 5, min_samples = 3 -> 이상치 23417 ----\n",
        "# eps = 15, min_samples = 3 -> 이상치 13255 , 10349/38/29/16\n"
      ],
      "execution_count": null,
      "outputs": []
    },
    {
      "cell_type": "code",
      "metadata": {
        "id": "4l7VSDkrRL12"
      },
      "source": [
        "from sklearn.cluster import DBSCAN\n",
        "dbscan = DBSCAN(eps=15,min_samples=3) #eps=0.3,min_samples=6\n",
        "clusters = dbscan.fit_predict(word_vectors_scaled)\n",
        "bio_exists_df['category2'] = clusters\n",
        "bio_exists_df.category2.value_counts()"
      ],
      "execution_count": null,
      "outputs": []
    },
    {
      "cell_type": "markdown",
      "metadata": {
        "id": "Gqu7mlMW3-Y1"
      },
      "source": [
        "일반 벡터에 dbscan"
      ]
    },
    {
      "cell_type": "code",
      "metadata": {
        "id": "7KiwIhfOHjzL"
      },
      "source": [
        "from sklearn.cluster import DBSCAN\n",
        "dbscan = DBSCAN(eps=0.9,min_samples=2) #eps=0.3 (epsilon),min_samples=6\n",
        "clusters = dbscan.fit_predict(word_vectors)\n",
        "bio_exists_df['category2'] = clusters\n",
        "bio_exists_df.category2.value_counts()"
      ],
      "execution_count": null,
      "outputs": []
    },
    {
      "cell_type": "code",
      "metadata": {
        "id": "dUftNJQYPL2L"
      },
      "source": [
        "dbscan = DBSCAN(eps=0.9,min_samples=4) #eps=0.3 (epsilon),min_samples=6\n",
        "clusters = dbscan.fit_predict(word_vectors)\n",
        "bio_exists_df['category2'] = clusters\n",
        "bio_exists_df.category2.value_counts()"
      ],
      "execution_count": null,
      "outputs": []
    },
    {
      "cell_type": "code",
      "metadata": {
        "id": "BT-uz1y3td5T"
      },
      "source": [
        "# eps = 0.4, min_samples = 4 -> 이상치 20000\n",
        "# eps = 2, min_samples = 6 -> 한 그룹으로 묶임.\n",
        "# eps = 1.8, min_samples = 2 -> 한 그룹으로 묶임\n",
        "# eps = 1.6, min_samples = 2 -> 한 그룹으로 묶임\n",
        "# eps = 1.3, min_samples = 2 -> 이상치 2, 1군집 나머지\n",
        "# eps = 1.3, min_samples = 6 -> 이상치 2, 1군집 나머지\n",
        "# eps = 1.1, min_samples = 6 -> 이상치 26, 1군집 나머지\n",
        "# eps = 0.7, min_samples = 6 -> 이상치 14346, 9574 / 38 / 29 / 16 / 15--------\n",
        "# eps = 0.7, min_samples = 3 -> 이상치 13658, 9900/ 38 / 29 / 29\n",
        "# eps = 0.7, min_samples = 2 -> 이상치 13048, 9900/ 38 / 29 / 29\n",
        "# eps = 0.8, min_samples = 6 -> 이상치 4384, 19844 / 20 / 15 / 14 / 13 / 12\n",
        "# eps = 0.8, min_samples = 3 -> 이상치 4118, 20000 / 20 / 15 / 14 / 13 / 12\n",
        "# eps = 0.9, min_samples = 6 -> 이상치 772, 23591 / 14 / 10 / 6 / 6\n",
        "# eps = 0.9, min_samples = 4 -> 이상치 442, 23604 / 14 / 10 / 6 / 6\n",
        "# eps = 0.9, min_samples = 2 -> 이상치 689, 23609 / 14 / 10 / 6 / 6 //30그룹\n",
        "# 노답\n",
        "# eps = 0.8~0.9"
      ],
      "execution_count": null,
      "outputs": []
    },
    {
      "cell_type": "markdown",
      "metadata": {
        "id": "Kkz9XS_3fYoQ"
      },
      "source": [
        "##응집형 계층 클러스터링\n",
        "\n",
        "AgglomerativeClustering"
      ]
    },
    {
      "cell_type": "markdown",
      "metadata": {
        "id": "EOto-Zhc4C0H"
      },
      "source": [
        "표준화 벡터에 응집형 클러스터링"
      ]
    },
    {
      "cell_type": "code",
      "metadata": {
        "id": "U8CpWtDr2NmD"
      },
      "source": [
        "from sklearn.cluster import AgglomerativeClustering\n",
        "agg = AgglomerativeClustering(n_clusters=10)\n",
        "assignment = agg.fit_predict(word_vectors_scaled)\n",
        "bio_exists_df['category3'] = assignment\n",
        "bio_exists_df.category3.value_counts()"
      ],
      "execution_count": null,
      "outputs": []
    },
    {
      "cell_type": "markdown",
      "metadata": {
        "id": "gZTLCxwWHion"
      },
      "source": [
        "일반벡터에 응집형 클러스터링"
      ]
    },
    {
      "cell_type": "code",
      "metadata": {
        "id": "nWiZUlmYHhZ0"
      },
      "source": [
        "from sklearn.cluster import AgglomerativeClustering\n",
        "agg = AgglomerativeClustering(n_clusters=10)\n",
        "assignment = agg.fit_predict(word_vectors_scaled)\n",
        "bio_exists_df['category3'] = assignment\n",
        "bio_exists_df.category3.value_counts()"
      ],
      "execution_count": null,
      "outputs": []
    },
    {
      "cell_type": "markdown",
      "metadata": {
        "id": "CFkATVa9LZJF"
      },
      "source": [
        "##kmeans"
      ]
    },
    {
      "cell_type": "code",
      "metadata": {
        "id": "bP8BzQpvHdfD"
      },
      "source": [
        "from sklearn.cluster import KMeans\n",
        "import time"
      ],
      "execution_count": null,
      "outputs": []
    },
    {
      "cell_type": "code",
      "metadata": {
        "id": "W1RqZCB3HelV"
      },
      "source": [
        "start = time.time() # 시작시간\n",
        "\n",
        "word_vectors = bio_exists_df.wv.to_list() \n",
        "\n",
        "num_clusters = 5\n",
        "\n",
        "# K means 를 정의하고 학습시킨다.\n",
        "kmeans_clustering = KMeans( n_clusters = num_clusters )\n",
        "idx = kmeans_clustering.fit_predict( word_vectors )\n",
        "\n",
        "# 끝난 시간에서 시작시각을 빼서 걸린 시간을 구한다.\n",
        "end = time.time()\n",
        "elapsed = end - start\n",
        "print(\"Time taken for K Means clustering: \", elapsed, \"seconds.\")"
      ],
      "execution_count": null,
      "outputs": []
    },
    {
      "cell_type": "code",
      "metadata": {
        "id": "k1euv14UlGIl"
      },
      "source": [
        "bio_exists_df['category1'] = idx\n",
        "bio_exists_df.category1.value_counts()"
      ],
      "execution_count": null,
      "outputs": []
    },
    {
      "cell_type": "code",
      "metadata": {
        "id": "lbbVDhY2HkqT"
      },
      "source": [
        "bio_exists_df.columns"
      ],
      "execution_count": null,
      "outputs": []
    },
    {
      "cell_type": "markdown",
      "metadata": {
        "id": "KLIUpoFvHlFF"
      },
      "source": [
        "# Embedding & Clustering 시각화하기"
      ]
    },
    {
      "cell_type": "code",
      "metadata": {
        "id": "-QUFMADcMhjE"
      },
      "source": [
        "#300 --> 2차원 변경 후 dbscan, kmeans, agglomerative clustering"
      ],
      "execution_count": null,
      "outputs": []
    },
    {
      "cell_type": "code",
      "metadata": {
        "id": "8oW27OtwHm5D"
      },
      "source": [
        "from sklearn.manifold import TSNE"
      ],
      "execution_count": null,
      "outputs": []
    },
    {
      "cell_type": "code",
      "metadata": {
        "id": "fUWNlPUmHoM8"
      },
      "source": [
        "X = bio_exists_df['wv'].to_list()\n",
        "y = bio_exists_df['category'].to_list()"
      ],
      "execution_count": null,
      "outputs": []
    },
    {
      "cell_type": "markdown",
      "metadata": {
        "id": "f1uEuc0hHqWg"
      },
      "source": [
        "차원축소 300->2차원으로 \n",
        "\n",
        "TSNE - 차원 축소 알고리즘 "
      ]
    },
    {
      "cell_type": "code",
      "metadata": {
        "id": "8TJFnys4UITK"
      },
      "source": [
        "X = bio_exists_df['wv'].to_list()"
      ],
      "execution_count": null,
      "outputs": []
    },
    {
      "cell_type": "code",
      "metadata": {
        "id": "6JdHSAFZHuCU"
      },
      "source": [
        "import os.path\n",
        "import pickle\n",
        "\n",
        "tsne_filepath = 'tsne3000.pkl'\n",
        "\n",
        "# File Cache\n",
        "if not os.path.exists(tsne_filepath):\n",
        "    tsne = TSNE(random_state=42)\n",
        "    tsne_points = tsne.fit_transform(X)\n",
        "    with open(tsne_filepath, 'wb+') as f:\n",
        "        pickle.dump(tsne_points, f)\n",
        "else: # Cache Hits!\n",
        "    with open(tsne_filepath, 'rb') as f:\n",
        "        tsne_points = pickle.load(f)\n",
        "\n",
        "tsne_df = pd.DataFrame(tsne_points, index=range(len(X)), columns=['x_coord', 'y_coord'])"
      ],
      "execution_count": null,
      "outputs": []
    },
    {
      "cell_type": "code",
      "metadata": {
        "id": "Bj0po-vYXOps"
      },
      "source": [
        "bio_exists_df['wv']"
      ],
      "execution_count": null,
      "outputs": []
    },
    {
      "cell_type": "code",
      "metadata": {
        "id": "1Ql2MTNsHvFs"
      },
      "source": [
        "tsne_df['user_bio'] = bio_exists_df['CONSULT_CONT'].to_list()"
      ],
      "execution_count": null,
      "outputs": []
    },
    {
      "cell_type": "code",
      "metadata": {
        "id": "jv9DPKuwZ3ES"
      },
      "source": [
        "Xvec = tsne_df['x_coord'].to_list()\n",
        "Yvec = tsne_df['y_coord'].to_list()\n"
      ],
      "execution_count": null,
      "outputs": []
    },
    {
      "cell_type": "code",
      "metadata": {
        "id": "NGqDUzsibKY_"
      },
      "source": [
        "twodvec = [[Xvec[i],Yvec[i]] for i in range(len(Xvec))]"
      ],
      "execution_count": null,
      "outputs": []
    },
    {
      "cell_type": "markdown",
      "metadata": {
        "id": "6sOnxP1eUKSm"
      },
      "source": [
        ""
      ]
    },
    {
      "cell_type": "code",
      "metadata": {
        "id": "dHJT7vm1HwAP"
      },
      "source": [
        "tsne_df['cluster_no'] = y"
      ],
      "execution_count": null,
      "outputs": []
    },
    {
      "cell_type": "code",
      "metadata": {
        "id": "B6Os3H6lVTZg"
      },
      "source": [
        "tsne_df.head(3)"
      ],
      "execution_count": null,
      "outputs": []
    },
    {
      "cell_type": "code",
      "metadata": {
        "id": "iQj2-9qFod5-"
      },
      "source": [
        "from sklearn.cluster import AgglomerativeClustering\n",
        "agg = AgglomerativeClustering(n_clusters=10)\n",
        "assignment = agg.fit_predict(twodvec_scaled)\n",
        "bio_exists_df['category3'] = assignment\n",
        "bio_exists_df.category3.value_counts()"
      ],
      "execution_count": null,
      "outputs": []
    },
    {
      "cell_type": "code",
      "metadata": {
        "id": "oEUll9TNl1P5"
      },
      "source": [
        "from sklearn.cluster import DBSCAN\n",
        "dbscan = DBSCAN(eps=.7,min_samples=3) #eps=0.3,min_samples=6\n",
        "clusters = dbscan.fit_predict(twodvec)\n",
        "bio_exists_df['category2'] = clusters\n",
        "count = bio_exists_df.category2.value_counts()\n",
        "count.head(20)"
      ],
      "execution_count": null,
      "outputs": []
    },
    {
      "cell_type": "code",
      "metadata": {
        "id": "XTUJdQCRpofw"
      },
      "source": [
        "from sklearn.cluster import KMeans\n",
        "kmeans_clustering = KMeans( n_clusters = 10 )\n",
        "idx = kmeans_clustering.fit_predict(twodvec_scaled)\n",
        "bio_exists_df['category3'] = idx\n",
        "bio_exists_df.category3.value_counts()"
      ],
      "execution_count": null,
      "outputs": []
    },
    {
      "cell_type": "code",
      "metadata": {
        "id": "xYzq6Tb4jbnD"
      },
      "source": [
        "from sklearn.preprocessing import StandardScaler\n",
        "scaler = StandardScaler()\n",
        "scaler.fit(twodvec)\n",
        "twodvec_scaled = scaler.transform(twodvec)"
      ],
      "execution_count": null,
      "outputs": []
    },
    {
      "cell_type": "code",
      "metadata": {
        "id": "YVqJeOpfoUrh"
      },
      "source": [
        "bio_exists_df"
      ],
      "execution_count": null,
      "outputs": []
    },
    {
      "cell_type": "code",
      "metadata": {
        "id": "BLBoBMfWZfhE"
      },
      "source": [
        "from sklearn.cluster import DBSCAN\n",
        "dbscan = DBSCAN(eps=0.03,min_samples=3) #eps=0.3,min_samples=6\n",
        "clusters = dbscan.fit_predict(twodvec_scaled)\n",
        "bio_exists_df['category2'] = clusters\n",
        "count = bio_exists_df.category2.value_counts()\n",
        "count.head(31)"
      ],
      "execution_count": null,
      "outputs": []
    },
    {
      "cell_type": "code",
      "metadata": {
        "id": "FqJ_RDvpkdCg"
      },
      "source": [
        "# tsne_df['cluster_no'] = assignment\n",
        "tsne_df['cluster_no'] = clusters\n",
        "# tsne_df['cluster_no'] = idx\n"
      ],
      "execution_count": null,
      "outputs": []
    },
    {
      "cell_type": "code",
      "metadata": {
        "id": "20qqoowWtz1L"
      },
      "source": [
        "tsne_df = tsne_df[tsne_df['cluster_no'].isin([0, 7, 23, 6, 4, 5, 18, 53, 164, 10, 44])]"
      ],
      "execution_count": null,
      "outputs": []
    },
    {
      "cell_type": "code",
      "metadata": {
        "id": "h_QGaHYwxPjF"
      },
      "source": [
        "tsne_df['cluster_no'] = tsne_df['cluster_no'].replace(0, 0).replace(7, 1).replace(23, 2).replace(6, 3).replace(4, 4).replace(5, 5).replace(18, 6).replace(53, 7).replace(164,8).replace(10,9).replace(44,10)"
      ],
      "execution_count": null,
      "outputs": []
    },
    {
      "cell_type": "code",
      "metadata": {
        "id": "aXZGMiwSHxJc"
      },
      "source": [
        "tsne_df.sample(3)"
      ],
      "execution_count": null,
      "outputs": []
    },
    {
      "cell_type": "code",
      "metadata": {
        "id": "_XeHy5jgHzrB"
      },
      "source": [
        "from bokeh.plotting import figure, show, output_notebook\n",
        "from bokeh.models import HoverTool, ColumnDataSource, value\n",
        "from bokeh.palettes import brewer\n",
        "\n",
        "output_notebook()"
      ],
      "execution_count": null,
      "outputs": []
    },
    {
      "cell_type": "code",
      "metadata": {
        "id": "-f82KohqvUxV"
      },
      "source": [
        "brewer[\"Spectral\"]"
      ],
      "execution_count": null,
      "outputs": []
    },
    {
      "cell_type": "code",
      "metadata": {
        "id": "pOkpiwL6wnFM"
      },
      "source": [
        "len(tsne_df['cluster_no'].unique())"
      ],
      "execution_count": null,
      "outputs": []
    },
    {
      "cell_type": "code",
      "metadata": {
        "id": "JUGQJg1hwbWo"
      },
      "source": [
        "brewer[\"Spectral\"]"
      ],
      "execution_count": null,
      "outputs": []
    },
    {
      "cell_type": "code",
      "metadata": {
        "id": "L0E88nOhH0lb"
      },
      "source": [
        "# Get the number of colors we'll need for the plot.\n",
        "colors = brewer[\"Spectral\"][len(tsne_df['cluster_no'].unique())]\n",
        "\n",
        "# Create a map between factor and color.\n",
        "colormap = {i: colors[i] for i in tsne_df['cluster_no'].unique()}\n",
        "\n",
        "# Create a list of colors for each value that we will be looking at.\n",
        "colors = [colormap[x] for x in tsne_df['cluster_no']]"
      ],
      "execution_count": null,
      "outputs": []
    },
    {
      "cell_type": "code",
      "metadata": {
        "id": "7mKJiGNPH1lx"
      },
      "source": [
        "tsne_df['color'] = colors"
      ],
      "execution_count": null,
      "outputs": []
    },
    {
      "cell_type": "code",
      "metadata": {
        "id": "2SsLf8xMH2cM"
      },
      "source": [
        "# Bokeh Datasouce 만들기\n",
        "plot_data = ColumnDataSource(\n",
        "    data=tsne_df.to_dict(orient='list')\n",
        ")\n",
        "\n",
        "# Plot 만들기(배경)\n",
        "tsne_plot = figure(\n",
        "    # title='TSNE Twitter BIO Embeddings',\n",
        "    plot_width = 650,\n",
        "    plot_height = 650,\n",
        "    active_scroll='wheel_zoom',\n",
        "    output_backend=\"webgl\",\n",
        ")\n",
        "\n",
        "# 해당 Hover 툴팁 만들기\n",
        "tsne_plot.add_tools(\n",
        "    HoverTool(\n",
        "        tooltips='@user_bio'\n",
        "    )\n",
        ")\n",
        "\n",
        "tsne_plot.circle(\n",
        "    source=plot_data,\n",
        "    x='x_coord',\n",
        "    y='y_coord',\n",
        "    line_alpha=0.3, \n",
        "    fill_alpha=0.2,\n",
        "    size=10,\n",
        "    fill_color='color',\n",
        "    line_color='color',\n",
        ")\n",
        "\n",
        "# 각 값들 추가해주기 \n",
        "tsne_plot.title.text_font_size = value('16pt')\n",
        "tsne_plot.xaxis.visible = False\n",
        "tsne_plot.yaxis.visible = False\n",
        "tsne_plot.grid.grid_line_color = None\n",
        "tsne_plot.outline_line_color = None\n",
        "\n",
        "# 짠!\n",
        "show(tsne_plot)"
      ],
      "execution_count": null,
      "outputs": []
    },
    {
      "cell_type": "code",
      "metadata": {
        "id": "Zb0FL5ZvH3tI"
      },
      "source": [
        "bio_exists_df[\n",
        "    bio_exists_df['category'] == 0\n",
        "][['CONSULT_CONT', 'category']].head()"
      ],
      "execution_count": null,
      "outputs": []
    },
    {
      "cell_type": "code",
      "metadata": {
        "id": "4cgK3xN_H5cd"
      },
      "source": [
        "bio_exists_df[\n",
        "    bio_exists_df['category'] == 1\n",
        "][['CONSULT_CONT', 'category']].head()"
      ],
      "execution_count": null,
      "outputs": []
    },
    {
      "cell_type": "code",
      "metadata": {
        "id": "kcUtwwOXH6YL"
      },
      "source": [
        "bio_exists_df[\n",
        "    bio_exists_df['category'] == 2\n",
        "][['CONSULT_CONT', 'category']].head()"
      ],
      "execution_count": null,
      "outputs": []
    },
    {
      "cell_type": "code",
      "metadata": {
        "id": "hbdu69aEH9EH"
      },
      "source": [
        "bio_exists_df[\n",
        "    bio_exists_df['category'] == 3\n",
        "][['CONSULT_CONT', 'category']].head()"
      ],
      "execution_count": null,
      "outputs": []
    }
  ]
}